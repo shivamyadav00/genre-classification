{
  "nbformat": 4,
  "nbformat_minor": 0,
  "metadata": {
    "colab": {
      "name": "Genre-Classification-Shivam-Yadav.ipynb",
      "provenance": [],
      "toc_visible": true
    },
    "kernelspec": {
      "name": "python3",
      "display_name": "Python 3"
    },
    "language_info": {
      "name": "python"
    }
  },
  "cells": [
    {
      "cell_type": "markdown",
      "metadata": {
        "id": "jgfC2gugzVTq"
      },
      "source": [
        "## Shivam Yadav"
      ]
    },
    {
      "cell_type": "code",
      "metadata": {
        "colab": {
          "base_uri": "https://localhost:8080/"
        },
        "id": "qlbfUmuQLVkp",
        "outputId": "28f169a2-3db1-4575-9177-06b04171bd95"
      },
      "source": [
        "import pandas as pd\n",
        "import seaborn as sns\n",
        "import numpy as np\n",
        "import matplotlib.pyplot as plt\n",
        "\n",
        "from imblearn.over_sampling import SMOTE \n",
        "from sklearn.model_selection import train_test_split\n",
        "from sklearn.preprocessing import StandardScaler\n",
        "from sklearn.neural_network import MLPClassifier\n",
        "from sklearn.metrics import f1_score\n",
        "\n",
        "import pandas_profiling"
      ],
      "execution_count": null,
      "outputs": [
        {
          "output_type": "stream",
          "name": "stderr",
          "text": [
            "/usr/local/lib/python3.7/dist-packages/sklearn/externals/six.py:31: FutureWarning: The module is deprecated in version 0.21 and will be removed in version 0.23 since we've dropped support for Python 2.7. Please rely on the official version of six (https://pypi.org/project/six/).\n",
            "  \"(https://pypi.org/project/six/).\", FutureWarning)\n",
            "/usr/local/lib/python3.7/dist-packages/sklearn/utils/deprecation.py:144: FutureWarning: The sklearn.neighbors.base module is  deprecated in version 0.22 and will be removed in version 0.24. The corresponding classes / functions should instead be imported from sklearn.neighbors. Anything that cannot be imported from sklearn.neighbors is now part of the private API.\n",
            "  warnings.warn(message, FutureWarning)\n"
          ]
        }
      ]
    },
    {
      "cell_type": "markdown",
      "metadata": {
        "id": "Jhm5UhhtTaQO"
      },
      "source": [
        "## Uploading Data"
      ]
    },
    {
      "cell_type": "code",
      "metadata": {
        "id": "exhRbN1OLzij"
      },
      "source": [
        "#uploading the music\n",
        "music_df = pd.read_csv(\"music_genre.csv\")"
      ],
      "execution_count": null,
      "outputs": []
    },
    {
      "cell_type": "markdown",
      "metadata": {
        "id": "kRHXiIoWTWfQ"
      },
      "source": [
        "## EDA / Feature Processing"
      ]
    },
    {
      "cell_type": "code",
      "metadata": {
        "colab": {
          "base_uri": "https://localhost:8080/",
          "height": 272
        },
        "id": "96Lgx7ueL3Sm",
        "outputId": "57521658-4f9c-4c61-aa9a-9ccf8259efe1"
      },
      "source": [
        "music_df.head()"
      ],
      "execution_count": null,
      "outputs": [
        {
          "output_type": "execute_result",
          "data": {
            "text/html": [
              "<div>\n",
              "<style scoped>\n",
              "    .dataframe tbody tr th:only-of-type {\n",
              "        vertical-align: middle;\n",
              "    }\n",
              "\n",
              "    .dataframe tbody tr th {\n",
              "        vertical-align: top;\n",
              "    }\n",
              "\n",
              "    .dataframe thead th {\n",
              "        text-align: right;\n",
              "    }\n",
              "</style>\n",
              "<table border=\"1\" class=\"dataframe\">\n",
              "  <thead>\n",
              "    <tr style=\"text-align: right;\">\n",
              "      <th></th>\n",
              "      <th>instance_id</th>\n",
              "      <th>artist_name</th>\n",
              "      <th>track_name</th>\n",
              "      <th>popularity</th>\n",
              "      <th>acousticness</th>\n",
              "      <th>danceability</th>\n",
              "      <th>duration_ms</th>\n",
              "      <th>energy</th>\n",
              "      <th>instrumentalness</th>\n",
              "      <th>key</th>\n",
              "      <th>liveness</th>\n",
              "      <th>loudness</th>\n",
              "      <th>mode</th>\n",
              "      <th>speechiness</th>\n",
              "      <th>tempo</th>\n",
              "      <th>obtained_date</th>\n",
              "      <th>valence</th>\n",
              "      <th>music_genre</th>\n",
              "    </tr>\n",
              "  </thead>\n",
              "  <tbody>\n",
              "    <tr>\n",
              "      <th>0</th>\n",
              "      <td>32894.0</td>\n",
              "      <td>Röyksopp</td>\n",
              "      <td>Röyksopp's Night Out</td>\n",
              "      <td>27.0</td>\n",
              "      <td>0.00468</td>\n",
              "      <td>0.652</td>\n",
              "      <td>-1.0</td>\n",
              "      <td>0.941</td>\n",
              "      <td>0.79200</td>\n",
              "      <td>A#</td>\n",
              "      <td>0.115</td>\n",
              "      <td>-5.201</td>\n",
              "      <td>Minor</td>\n",
              "      <td>0.0748</td>\n",
              "      <td>100.889</td>\n",
              "      <td>4-Apr</td>\n",
              "      <td>0.759</td>\n",
              "      <td>Electronic</td>\n",
              "    </tr>\n",
              "    <tr>\n",
              "      <th>1</th>\n",
              "      <td>46652.0</td>\n",
              "      <td>Thievery Corporation</td>\n",
              "      <td>The Shining Path</td>\n",
              "      <td>31.0</td>\n",
              "      <td>0.01270</td>\n",
              "      <td>0.622</td>\n",
              "      <td>218293.0</td>\n",
              "      <td>0.890</td>\n",
              "      <td>0.95000</td>\n",
              "      <td>D</td>\n",
              "      <td>0.124</td>\n",
              "      <td>-7.043</td>\n",
              "      <td>Minor</td>\n",
              "      <td>0.0300</td>\n",
              "      <td>115.00200000000001</td>\n",
              "      <td>4-Apr</td>\n",
              "      <td>0.531</td>\n",
              "      <td>Electronic</td>\n",
              "    </tr>\n",
              "    <tr>\n",
              "      <th>2</th>\n",
              "      <td>30097.0</td>\n",
              "      <td>Dillon Francis</td>\n",
              "      <td>Hurricane</td>\n",
              "      <td>28.0</td>\n",
              "      <td>0.00306</td>\n",
              "      <td>0.620</td>\n",
              "      <td>215613.0</td>\n",
              "      <td>0.755</td>\n",
              "      <td>0.01180</td>\n",
              "      <td>G#</td>\n",
              "      <td>0.534</td>\n",
              "      <td>-4.617</td>\n",
              "      <td>Major</td>\n",
              "      <td>0.0345</td>\n",
              "      <td>127.994</td>\n",
              "      <td>4-Apr</td>\n",
              "      <td>0.333</td>\n",
              "      <td>Electronic</td>\n",
              "    </tr>\n",
              "    <tr>\n",
              "      <th>3</th>\n",
              "      <td>62177.0</td>\n",
              "      <td>Dubloadz</td>\n",
              "      <td>Nitro</td>\n",
              "      <td>34.0</td>\n",
              "      <td>0.02540</td>\n",
              "      <td>0.774</td>\n",
              "      <td>166875.0</td>\n",
              "      <td>0.700</td>\n",
              "      <td>0.00253</td>\n",
              "      <td>C#</td>\n",
              "      <td>0.157</td>\n",
              "      <td>-4.498</td>\n",
              "      <td>Major</td>\n",
              "      <td>0.2390</td>\n",
              "      <td>128.014</td>\n",
              "      <td>4-Apr</td>\n",
              "      <td>0.270</td>\n",
              "      <td>Electronic</td>\n",
              "    </tr>\n",
              "    <tr>\n",
              "      <th>4</th>\n",
              "      <td>24907.0</td>\n",
              "      <td>What So Not</td>\n",
              "      <td>Divide &amp; Conquer</td>\n",
              "      <td>32.0</td>\n",
              "      <td>0.00465</td>\n",
              "      <td>0.638</td>\n",
              "      <td>222369.0</td>\n",
              "      <td>0.587</td>\n",
              "      <td>0.90900</td>\n",
              "      <td>F#</td>\n",
              "      <td>0.157</td>\n",
              "      <td>-6.266</td>\n",
              "      <td>Major</td>\n",
              "      <td>0.0413</td>\n",
              "      <td>145.036</td>\n",
              "      <td>4-Apr</td>\n",
              "      <td>0.323</td>\n",
              "      <td>Electronic</td>\n",
              "    </tr>\n",
              "  </tbody>\n",
              "</table>\n",
              "</div>"
            ],
            "text/plain": [
              "   instance_id           artist_name  ... valence  music_genre\n",
              "0      32894.0              Röyksopp  ...   0.759   Electronic\n",
              "1      46652.0  Thievery Corporation  ...   0.531   Electronic\n",
              "2      30097.0        Dillon Francis  ...   0.333   Electronic\n",
              "3      62177.0              Dubloadz  ...   0.270   Electronic\n",
              "4      24907.0           What So Not  ...   0.323   Electronic\n",
              "\n",
              "[5 rows x 18 columns]"
            ]
          },
          "metadata": {},
          "execution_count": 3
        }
      ]
    },
    {
      "cell_type": "code",
      "metadata": {
        "colab": {
          "base_uri": "https://localhost:8080/"
        },
        "id": "K4PvdM7aMEtj",
        "outputId": "67bfa135-bc27-4106-9f70-d739f09c3903"
      },
      "source": [
        "music_df.info()"
      ],
      "execution_count": null,
      "outputs": [
        {
          "output_type": "stream",
          "name": "stdout",
          "text": [
            "<class 'pandas.core.frame.DataFrame'>\n",
            "RangeIndex: 50005 entries, 0 to 50004\n",
            "Data columns (total 18 columns):\n",
            " #   Column            Non-Null Count  Dtype  \n",
            "---  ------            --------------  -----  \n",
            " 0   instance_id       50000 non-null  float64\n",
            " 1   artist_name       50000 non-null  object \n",
            " 2   track_name        50000 non-null  object \n",
            " 3   popularity        50000 non-null  float64\n",
            " 4   acousticness      50000 non-null  float64\n",
            " 5   danceability      50000 non-null  float64\n",
            " 6   duration_ms       50000 non-null  float64\n",
            " 7   energy            50000 non-null  float64\n",
            " 8   instrumentalness  50000 non-null  float64\n",
            " 9   key               50000 non-null  object \n",
            " 10  liveness          50000 non-null  float64\n",
            " 11  loudness          50000 non-null  float64\n",
            " 12  mode              50000 non-null  object \n",
            " 13  speechiness       50000 non-null  float64\n",
            " 14  tempo             50000 non-null  object \n",
            " 15  obtained_date     50000 non-null  object \n",
            " 16  valence           50000 non-null  float64\n",
            " 17  music_genre       50000 non-null  object \n",
            "dtypes: float64(11), object(7)\n",
            "memory usage: 6.9+ MB\n"
          ]
        }
      ]
    },
    {
      "cell_type": "code",
      "metadata": {
        "id": "DJxMFAKLWC2l"
      },
      "source": [
        "# converting tempo to a numeric type\n",
        "music_df = music_df[pd.to_numeric(music_df['tempo'], errors='coerce').notnull()]"
      ],
      "execution_count": null,
      "outputs": []
    },
    {
      "cell_type": "code",
      "metadata": {
        "colab": {
          "base_uri": "https://localhost:8080/"
        },
        "id": "z-W0TAyVXJhW",
        "outputId": "155781af-b89d-4689-a84f-8aec6acb5835"
      },
      "source": [
        "music_df.info()"
      ],
      "execution_count": null,
      "outputs": [
        {
          "output_type": "stream",
          "name": "stdout",
          "text": [
            "<class 'pandas.core.frame.DataFrame'>\n",
            "Int64Index: 45020 entries, 0 to 50004\n",
            "Data columns (total 18 columns):\n",
            " #   Column            Non-Null Count  Dtype  \n",
            "---  ------            --------------  -----  \n",
            " 0   instance_id       45020 non-null  float64\n",
            " 1   artist_name       45020 non-null  object \n",
            " 2   track_name        45020 non-null  object \n",
            " 3   popularity        45020 non-null  float64\n",
            " 4   acousticness      45020 non-null  float64\n",
            " 5   danceability      45020 non-null  float64\n",
            " 6   duration_ms       45020 non-null  float64\n",
            " 7   energy            45020 non-null  float64\n",
            " 8   instrumentalness  45020 non-null  float64\n",
            " 9   key               45020 non-null  object \n",
            " 10  liveness          45020 non-null  float64\n",
            " 11  loudness          45020 non-null  float64\n",
            " 12  mode              45020 non-null  object \n",
            " 13  speechiness       45020 non-null  float64\n",
            " 14  tempo             45020 non-null  object \n",
            " 15  obtained_date     45020 non-null  object \n",
            " 16  valence           45020 non-null  float64\n",
            " 17  music_genre       45020 non-null  object \n",
            "dtypes: float64(11), object(7)\n",
            "memory usage: 6.5+ MB\n"
          ]
        }
      ]
    },
    {
      "cell_type": "code",
      "metadata": {
        "id": "nIQr7Md2eEiB"
      },
      "source": [
        "music_df['tempo'] = music_df['tempo'].astype(float)"
      ],
      "execution_count": null,
      "outputs": []
    },
    {
      "cell_type": "code",
      "metadata": {
        "colab": {
          "base_uri": "https://localhost:8080/"
        },
        "id": "zDqYDcGUfS3h",
        "outputId": "0619f929-506b-4033-f405-610ff6a18944"
      },
      "source": [
        "music_df.info()"
      ],
      "execution_count": null,
      "outputs": [
        {
          "output_type": "stream",
          "name": "stdout",
          "text": [
            "<class 'pandas.core.frame.DataFrame'>\n",
            "Int64Index: 45020 entries, 0 to 50004\n",
            "Data columns (total 18 columns):\n",
            " #   Column            Non-Null Count  Dtype  \n",
            "---  ------            --------------  -----  \n",
            " 0   instance_id       45020 non-null  float64\n",
            " 1   artist_name       45020 non-null  object \n",
            " 2   track_name        45020 non-null  object \n",
            " 3   popularity        45020 non-null  float64\n",
            " 4   acousticness      45020 non-null  float64\n",
            " 5   danceability      45020 non-null  float64\n",
            " 6   duration_ms       45020 non-null  float64\n",
            " 7   energy            45020 non-null  float64\n",
            " 8   instrumentalness  45020 non-null  float64\n",
            " 9   key               45020 non-null  object \n",
            " 10  liveness          45020 non-null  float64\n",
            " 11  loudness          45020 non-null  float64\n",
            " 12  mode              45020 non-null  object \n",
            " 13  speechiness       45020 non-null  float64\n",
            " 14  tempo             45020 non-null  float64\n",
            " 15  obtained_date     45020 non-null  object \n",
            " 16  valence           45020 non-null  float64\n",
            " 17  music_genre       45020 non-null  object \n",
            "dtypes: float64(12), object(6)\n",
            "memory usage: 6.5+ MB\n"
          ]
        }
      ]
    },
    {
      "cell_type": "markdown",
      "metadata": {
        "id": "szzi1bbqMPRZ"
      },
      "source": [
        "Information above tells us that there is no need to fill any empty cells (i.e. there are no missing values) after converting tempo to a numerical value. "
      ]
    },
    {
      "cell_type": "code",
      "metadata": {
        "colab": {
          "base_uri": "https://localhost:8080/",
          "height": 385
        },
        "id": "EY-PT-Y3UHbR",
        "outputId": "c601686b-56fb-4f0e-9711-4ec0ef60a8c5"
      },
      "source": [
        "music_df.groupby(['music_genre']).agg({\"instance_id\": \"count\"})"
      ],
      "execution_count": null,
      "outputs": [
        {
          "output_type": "execute_result",
          "data": {
            "text/html": [
              "<div>\n",
              "<style scoped>\n",
              "    .dataframe tbody tr th:only-of-type {\n",
              "        vertical-align: middle;\n",
              "    }\n",
              "\n",
              "    .dataframe tbody tr th {\n",
              "        vertical-align: top;\n",
              "    }\n",
              "\n",
              "    .dataframe thead th {\n",
              "        text-align: right;\n",
              "    }\n",
              "</style>\n",
              "<table border=\"1\" class=\"dataframe\">\n",
              "  <thead>\n",
              "    <tr style=\"text-align: right;\">\n",
              "      <th></th>\n",
              "      <th>instance_id</th>\n",
              "    </tr>\n",
              "    <tr>\n",
              "      <th>music_genre</th>\n",
              "      <th></th>\n",
              "    </tr>\n",
              "  </thead>\n",
              "  <tbody>\n",
              "    <tr>\n",
              "      <th>Alternative</th>\n",
              "      <td>4495</td>\n",
              "    </tr>\n",
              "    <tr>\n",
              "      <th>Anime</th>\n",
              "      <td>4497</td>\n",
              "    </tr>\n",
              "    <tr>\n",
              "      <th>Blues</th>\n",
              "      <td>4470</td>\n",
              "    </tr>\n",
              "    <tr>\n",
              "      <th>Classical</th>\n",
              "      <td>4500</td>\n",
              "    </tr>\n",
              "    <tr>\n",
              "      <th>Country</th>\n",
              "      <td>4486</td>\n",
              "    </tr>\n",
              "    <tr>\n",
              "      <th>Electronic</th>\n",
              "      <td>4466</td>\n",
              "    </tr>\n",
              "    <tr>\n",
              "      <th>Hip-Hop</th>\n",
              "      <td>4520</td>\n",
              "    </tr>\n",
              "    <tr>\n",
              "      <th>Jazz</th>\n",
              "      <td>4521</td>\n",
              "    </tr>\n",
              "    <tr>\n",
              "      <th>Rap</th>\n",
              "      <td>4504</td>\n",
              "    </tr>\n",
              "    <tr>\n",
              "      <th>Rock</th>\n",
              "      <td>4561</td>\n",
              "    </tr>\n",
              "  </tbody>\n",
              "</table>\n",
              "</div>"
            ],
            "text/plain": [
              "             instance_id\n",
              "music_genre             \n",
              "Alternative         4495\n",
              "Anime               4497\n",
              "Blues               4470\n",
              "Classical           4500\n",
              "Country             4486\n",
              "Electronic          4466\n",
              "Hip-Hop             4520\n",
              "Jazz                4521\n",
              "Rap                 4504\n",
              "Rock                4561"
            ]
          },
          "metadata": {},
          "execution_count": 13
        }
      ]
    },
    {
      "cell_type": "code",
      "metadata": {
        "colab": {
          "base_uri": "https://localhost:8080/",
          "height": 386
        },
        "id": "CEXFFNQCNoxD",
        "outputId": "c2430d1f-2e68-4255-d842-7daa5236d7c2"
      },
      "source": [
        "# plotting danceability with music genre to see the spread/variability of the continuous random variable against the category\n",
        "sns.catplot(x=\"danceability\", y=\"music_genre\", data=music_df)"
      ],
      "execution_count": null,
      "outputs": [
        {
          "output_type": "execute_result",
          "data": {
            "text/plain": [
              "<seaborn.axisgrid.FacetGrid at 0x7f87b4e2e710>"
            ]
          },
          "metadata": {},
          "execution_count": 16
        },
        {
          "output_type": "display_data",
          "data": {
            "image/png": "[encoded data removed]",
            "text/plain": [
              "<Figure size 360x360 with 1 Axes>"
            ]
          },
          "metadata": {
            "needs_background": "light"
          }
        }
      ]
    },
    {
      "cell_type": "markdown",
      "metadata": {
        "id": "lChn5KXNQXmk"
      },
      "source": [
        "Looking to see the range of danceability with respect to genre. Electronic music has some of the highest ranges (very diverse/variable). "
      ]
    },
    {
      "cell_type": "code",
      "metadata": {
        "colab": {
          "base_uri": "https://localhost:8080/",
          "height": 386
        },
        "id": "qFGOYnvJQsdt",
        "outputId": "a723d03d-f837-4afd-a2aa-b1c042f2ba7f"
      },
      "source": [
        "sns.catplot(x=\"loudness\", y=\"music_genre\", data=music_df)"
      ],
      "execution_count": null,
      "outputs": [
        {
          "output_type": "execute_result",
          "data": {
            "text/plain": [
              "<seaborn.axisgrid.FacetGrid at 0x7f87b4958d90>"
            ]
          },
          "metadata": {},
          "execution_count": 17
        },
        {
          "output_type": "display_data",
          "data": {
            "image/png": "[encoded data removed]",
            "text/plain": [
              "<Figure size 360x360 with 1 Axes>"
            ]
          },
          "metadata": {
            "needs_background": "light"
          }
        }
      ]
    },
    {
      "cell_type": "markdown",
      "metadata": {
        "id": "v9qSDumug7R-"
      },
      "source": [
        "Loudness could be a useful predictor"
      ]
    },
    {
      "cell_type": "code",
      "metadata": {
        "colab": {
          "base_uri": "https://localhost:8080/",
          "height": 386
        },
        "id": "O7i14BSqQ9nT",
        "outputId": "0baff530-7866-478a-e3c0-575ef6c9e465"
      },
      "source": [
        "sns.catplot(x=\"acousticness\", y=\"music_genre\", data=music_df)"
      ],
      "execution_count": null,
      "outputs": [
        {
          "output_type": "execute_result",
          "data": {
            "text/plain": [
              "<seaborn.axisgrid.FacetGrid at 0x7f87b48bd890>"
            ]
          },
          "metadata": {},
          "execution_count": 18
        },
        {
          "output_type": "display_data",
          "data": {
            "image/png": "[encoded data removed]",
            "text/plain": [
              "<Figure size 360x360 with 1 Axes>"
            ]
          },
          "metadata": {
            "needs_background": "light"
          }
        }
      ]
    },
    {
      "cell_type": "markdown",
      "metadata": {
        "id": "qgbqrxcbREK2"
      },
      "source": [
        "After measuring acousticness with respect to music genre, it doesn't seem like this variable would help in the classification of music_genre (the acousticness is so variable among all genres). "
      ]
    },
    {
      "cell_type": "code",
      "metadata": {
        "colab": {
          "base_uri": "https://localhost:8080/",
          "height": 278
        },
        "id": "KTKkUWcjRB9L",
        "outputId": "96b087b3-29cf-41ca-ed07-04fa151d1f2e"
      },
      "source": [
        "# We can compare acousticness with loudness to see if there seems to be a trend between the two. \n",
        "# This can possibly help us determine whether the acousticness of a song is a confocunding variable with respect to loudness\n",
        "# When regressed on music genres\n",
        "\n",
        "plt.scatter(\"loudness\", \"acousticness\", data = music_df)\n",
        "plt.xlabel('Loudness')\n",
        "plt.ylabel('Acousticness')\n",
        "plt.show()"
      ],
      "execution_count": null,
      "outputs": [
        {
          "output_type": "display_data",
          "data": {
            "image/png": "[encoded data removed]",
            "text/plain": [
              "<Figure size 432x288 with 1 Axes>"
            ]
          },
          "metadata": {
            "needs_background": "light"
          }
        }
      ]
    },
    {
      "cell_type": "markdown",
      "metadata": {
        "id": "ANxApOsuTKXU"
      },
      "source": [
        "From this plot there doesn't seem to be a linear relationship between the two variables. Acousticness might not be a valuable predictor consequently from our dataset. "
      ]
    },
    {
      "cell_type": "code",
      "metadata": {
        "colab": {
          "base_uri": "https://localhost:8080/",
          "height": 386
        },
        "id": "nmQSIdzbTgnp",
        "outputId": "9acc1538-764c-4b62-e555-1c4f61168654"
      },
      "source": [
        "sns.catplot(x=\"energy\", y=\"music_genre\", data=music_df)"
      ],
      "execution_count": null,
      "outputs": [
        {
          "output_type": "execute_result",
          "data": {
            "text/plain": [
              "<seaborn.axisgrid.FacetGrid at 0x7f87b485f350>"
            ]
          },
          "metadata": {},
          "execution_count": 20
        },
        {
          "output_type": "display_data",
          "data": {
            "image/png": "[encoded data removed]",
            "text/plain": [
              "<Figure size 360x360 with 1 Axes>"
            ]
          },
          "metadata": {
            "needs_background": "light"
          }
        }
      ]
    },
    {
      "cell_type": "markdown",
      "metadata": {
        "id": "mfc-k9ZNhDM3"
      },
      "source": [
        "Electronic seems to have an minimum energy threshold around 0.2 (probably meaning that most electronic music is at least somewhat energetic). "
      ]
    },
    {
      "cell_type": "code",
      "metadata": {
        "colab": {
          "base_uri": "https://localhost:8080/",
          "height": 386
        },
        "id": "XB-r6pSJUuXF",
        "outputId": "eacb95a7-9b98-4c8a-dedd-832f223ad772"
      },
      "source": [
        "sns.catplot(x=\"instrumentalness\", y=\"music_genre\", data=music_df)"
      ],
      "execution_count": null,
      "outputs": [
        {
          "output_type": "execute_result",
          "data": {
            "text/plain": [
              "<seaborn.axisgrid.FacetGrid at 0x7f87b35b8910>"
            ]
          },
          "metadata": {},
          "execution_count": 21
        },
        {
          "output_type": "display_data",
          "data": {
            "image/png": "[encoded data removed]",
            "text/plain": [
              "<Figure size 360x360 with 1 Axes>"
            ]
          },
          "metadata": {
            "needs_background": "light"
          }
        }
      ]
    },
    {
      "cell_type": "code",
      "metadata": {
        "colab": {
          "base_uri": "https://localhost:8080/",
          "height": 386
        },
        "id": "MDQU8jnbU8X0",
        "outputId": "d7fe6b10-0ac5-4f16-9212-192f40efe5be"
      },
      "source": [
        "sns.catplot(x=\"liveness\", y=\"music_genre\", data=music_df)"
      ],
      "execution_count": null,
      "outputs": [
        {
          "output_type": "execute_result",
          "data": {
            "text/plain": [
              "<seaborn.axisgrid.FacetGrid at 0x7f87b4750750>"
            ]
          },
          "metadata": {},
          "execution_count": 22
        },
        {
          "output_type": "display_data",
          "data": {
            "image/png": "[encoded data removed]",
            "text/plain": [
              "<Figure size 360x360 with 1 Axes>"
            ]
          },
          "metadata": {
            "needs_background": "light"
          }
        }
      ]
    },
    {
      "cell_type": "markdown",
      "metadata": {
        "id": "C4r1PSWscGxL"
      },
      "source": [
        "Liveness doesn't seem that helpful from this catplot. "
      ]
    },
    {
      "cell_type": "code",
      "metadata": {
        "colab": {
          "base_uri": "https://localhost:8080/",
          "height": 386
        },
        "id": "7UT344THU_w_",
        "outputId": "db1b9021-d7ea-4d6a-c119-4dccfc8ba82e"
      },
      "source": [
        "sns.catplot(x=\"speechiness\", y=\"music_genre\", data=music_df)"
      ],
      "execution_count": null,
      "outputs": [
        {
          "output_type": "execute_result",
          "data": {
            "text/plain": [
              "<seaborn.axisgrid.FacetGrid at 0x7f87b4718b90>"
            ]
          },
          "metadata": {},
          "execution_count": 23
        },
        {
          "output_type": "display_data",
          "data": {
            "image/png": "[encoded data removed]",
            "text/plain": [
              "<Figure size 360x360 with 1 Axes>"
            ]
          },
          "metadata": {
            "needs_background": "light"
          }
        }
      ]
    },
    {
      "cell_type": "markdown",
      "metadata": {
        "id": "xmrnCuibVFVU"
      },
      "source": [
        "With respect to electronic music, there seem to be less songs with greater speechiness values. Could be a useful predictor in the overall model. "
      ]
    },
    {
      "cell_type": "code",
      "metadata": {
        "colab": {
          "base_uri": "https://localhost:8080/",
          "height": 386
        },
        "id": "nnQTCUIUVY97",
        "outputId": "4308f076-d4d5-4c3e-97c1-6e200e7e22fd"
      },
      "source": [
        "sns.catplot(x=\"tempo\", y=\"music_genre\", kind=\"box\", data=music_df)"
      ],
      "execution_count": null,
      "outputs": [
        {
          "output_type": "execute_result",
          "data": {
            "text/plain": [
              "<seaborn.axisgrid.FacetGrid at 0x7f87b4748350>"
            ]
          },
          "metadata": {},
          "execution_count": 24
        },
        {
          "output_type": "display_data",
          "data": {
            "image/png": "[encoded data removed]",
            "text/plain": [
              "<Figure size 360x360 with 1 Axes>"
            ]
          },
          "metadata": {
            "needs_background": "light"
          }
        }
      ]
    },
    {
      "cell_type": "code",
      "metadata": {
        "colab": {
          "base_uri": "https://localhost:8080/"
        },
        "id": "v9JbiWoIheEf",
        "outputId": "cdf60174-1dd8-4b03-b580-7ffac26b89fd"
      },
      "source": [
        "temp_series = pd.unique(music_df['key'])\n",
        "print(len(temp_series))"
      ],
      "execution_count": null,
      "outputs": [
        {
          "output_type": "stream",
          "name": "stdout",
          "text": [
            "12\n"
          ]
        }
      ]
    },
    {
      "cell_type": "markdown",
      "metadata": {
        "id": "NQFldyz-h1DJ"
      },
      "source": [
        "This 12 number above tells us there are 12 keys. This is relatively low cardinality, so we can proceed to one-hot encode the key in our dataset. "
      ]
    },
    {
      "cell_type": "code",
      "metadata": {
        "id": "U3AR-w-7hR0W"
      },
      "source": [
        "music_df = pd.get_dummies(columns=['key', 'mode'], data = music_df)"
      ],
      "execution_count": null,
      "outputs": []
    },
    {
      "cell_type": "code",
      "metadata": {
        "colab": {
          "base_uri": "https://localhost:8080/",
          "height": 272
        },
        "id": "AlTFcB7SiA17",
        "outputId": "2474765f-cd5c-4ab7-d51d-f353cf65024f"
      },
      "source": [
        "music_df.head()"
      ],
      "execution_count": null,
      "outputs": [
        {
          "output_type": "execute_result",
          "data": {
            "text/html": [
              "<div>\n",
              "<style scoped>\n",
              "    .dataframe tbody tr th:only-of-type {\n",
              "        vertical-align: middle;\n",
              "    }\n",
              "\n",
              "    .dataframe tbody tr th {\n",
              "        vertical-align: top;\n",
              "    }\n",
              "\n",
              "    .dataframe thead th {\n",
              "        text-align: right;\n",
              "    }\n",
              "</style>\n",
              "<table border=\"1\" class=\"dataframe\">\n",
              "  <thead>\n",
              "    <tr style=\"text-align: right;\">\n",
              "      <th></th>\n",
              "      <th>instance_id</th>\n",
              "      <th>artist_name</th>\n",
              "      <th>track_name</th>\n",
              "      <th>popularity</th>\n",
              "      <th>acousticness</th>\n",
              "      <th>danceability</th>\n",
              "      <th>duration_ms</th>\n",
              "      <th>energy</th>\n",
              "      <th>instrumentalness</th>\n",
              "      <th>liveness</th>\n",
              "      <th>loudness</th>\n",
              "      <th>speechiness</th>\n",
              "      <th>tempo</th>\n",
              "      <th>obtained_date</th>\n",
              "      <th>valence</th>\n",
              "      <th>music_genre</th>\n",
              "      <th>key_A</th>\n",
              "      <th>key_A#</th>\n",
              "      <th>key_B</th>\n",
              "      <th>key_C</th>\n",
              "      <th>key_C#</th>\n",
              "      <th>key_D</th>\n",
              "      <th>key_D#</th>\n",
              "      <th>key_E</th>\n",
              "      <th>key_F</th>\n",
              "      <th>key_F#</th>\n",
              "      <th>key_G</th>\n",
              "      <th>key_G#</th>\n",
              "      <th>mode_Major</th>\n",
              "      <th>mode_Minor</th>\n",
              "    </tr>\n",
              "  </thead>\n",
              "  <tbody>\n",
              "    <tr>\n",
              "      <th>0</th>\n",
              "      <td>32894.0</td>\n",
              "      <td>Röyksopp</td>\n",
              "      <td>Röyksopp's Night Out</td>\n",
              "      <td>27.0</td>\n",
              "      <td>0.00468</td>\n",
              "      <td>0.652</td>\n",
              "      <td>-1.0</td>\n",
              "      <td>0.941</td>\n",
              "      <td>0.79200</td>\n",
              "      <td>0.115</td>\n",
              "      <td>-5.201</td>\n",
              "      <td>0.0748</td>\n",
              "      <td>100.889</td>\n",
              "      <td>4-Apr</td>\n",
              "      <td>0.759</td>\n",
              "      <td>Electronic</td>\n",
              "      <td>0</td>\n",
              "      <td>1</td>\n",
              "      <td>0</td>\n",
              "      <td>0</td>\n",
              "      <td>0</td>\n",
              "      <td>0</td>\n",
              "      <td>0</td>\n",
              "      <td>0</td>\n",
              "      <td>0</td>\n",
              "      <td>0</td>\n",
              "      <td>0</td>\n",
              "      <td>0</td>\n",
              "      <td>0</td>\n",
              "      <td>1</td>\n",
              "    </tr>\n",
              "    <tr>\n",
              "      <th>1</th>\n",
              "      <td>46652.0</td>\n",
              "      <td>Thievery Corporation</td>\n",
              "      <td>The Shining Path</td>\n",
              "      <td>31.0</td>\n",
              "      <td>0.01270</td>\n",
              "      <td>0.622</td>\n",
              "      <td>218293.0</td>\n",
              "      <td>0.890</td>\n",
              "      <td>0.95000</td>\n",
              "      <td>0.124</td>\n",
              "      <td>-7.043</td>\n",
              "      <td>0.0300</td>\n",
              "      <td>115.002</td>\n",
              "      <td>4-Apr</td>\n",
              "      <td>0.531</td>\n",
              "      <td>Electronic</td>\n",
              "      <td>0</td>\n",
              "      <td>0</td>\n",
              "      <td>0</td>\n",
              "      <td>0</td>\n",
              "      <td>0</td>\n",
              "      <td>1</td>\n",
              "      <td>0</td>\n",
              "      <td>0</td>\n",
              "      <td>0</td>\n",
              "      <td>0</td>\n",
              "      <td>0</td>\n",
              "      <td>0</td>\n",
              "      <td>0</td>\n",
              "      <td>1</td>\n",
              "    </tr>\n",
              "    <tr>\n",
              "      <th>2</th>\n",
              "      <td>30097.0</td>\n",
              "      <td>Dillon Francis</td>\n",
              "      <td>Hurricane</td>\n",
              "      <td>28.0</td>\n",
              "      <td>0.00306</td>\n",
              "      <td>0.620</td>\n",
              "      <td>215613.0</td>\n",
              "      <td>0.755</td>\n",
              "      <td>0.01180</td>\n",
              "      <td>0.534</td>\n",
              "      <td>-4.617</td>\n",
              "      <td>0.0345</td>\n",
              "      <td>127.994</td>\n",
              "      <td>4-Apr</td>\n",
              "      <td>0.333</td>\n",
              "      <td>Electronic</td>\n",
              "      <td>0</td>\n",
              "      <td>0</td>\n",
              "      <td>0</td>\n",
              "      <td>0</td>\n",
              "      <td>0</td>\n",
              "      <td>0</td>\n",
              "      <td>0</td>\n",
              "      <td>0</td>\n",
              "      <td>0</td>\n",
              "      <td>0</td>\n",
              "      <td>0</td>\n",
              "      <td>1</td>\n",
              "      <td>1</td>\n",
              "      <td>0</td>\n",
              "    </tr>\n",
              "    <tr>\n",
              "      <th>3</th>\n",
              "      <td>62177.0</td>\n",
              "      <td>Dubloadz</td>\n",
              "      <td>Nitro</td>\n",
              "      <td>34.0</td>\n",
              "      <td>0.02540</td>\n",
              "      <td>0.774</td>\n",
              "      <td>166875.0</td>\n",
              "      <td>0.700</td>\n",
              "      <td>0.00253</td>\n",
              "      <td>0.157</td>\n",
              "      <td>-4.498</td>\n",
              "      <td>0.2390</td>\n",
              "      <td>128.014</td>\n",
              "      <td>4-Apr</td>\n",
              "      <td>0.270</td>\n",
              "      <td>Electronic</td>\n",
              "      <td>0</td>\n",
              "      <td>0</td>\n",
              "      <td>0</td>\n",
              "      <td>0</td>\n",
              "      <td>1</td>\n",
              "      <td>0</td>\n",
              "      <td>0</td>\n",
              "      <td>0</td>\n",
              "      <td>0</td>\n",
              "      <td>0</td>\n",
              "      <td>0</td>\n",
              "      <td>0</td>\n",
              "      <td>1</td>\n",
              "      <td>0</td>\n",
              "    </tr>\n",
              "    <tr>\n",
              "      <th>4</th>\n",
              "      <td>24907.0</td>\n",
              "      <td>What So Not</td>\n",
              "      <td>Divide &amp; Conquer</td>\n",
              "      <td>32.0</td>\n",
              "      <td>0.00465</td>\n",
              "      <td>0.638</td>\n",
              "      <td>222369.0</td>\n",
              "      <td>0.587</td>\n",
              "      <td>0.90900</td>\n",
              "      <td>0.157</td>\n",
              "      <td>-6.266</td>\n",
              "      <td>0.0413</td>\n",
              "      <td>145.036</td>\n",
              "      <td>4-Apr</td>\n",
              "      <td>0.323</td>\n",
              "      <td>Electronic</td>\n",
              "      <td>0</td>\n",
              "      <td>0</td>\n",
              "      <td>0</td>\n",
              "      <td>0</td>\n",
              "      <td>0</td>\n",
              "      <td>0</td>\n",
              "      <td>0</td>\n",
              "      <td>0</td>\n",
              "      <td>0</td>\n",
              "      <td>1</td>\n",
              "      <td>0</td>\n",
              "      <td>0</td>\n",
              "      <td>1</td>\n",
              "      <td>0</td>\n",
              "    </tr>\n",
              "  </tbody>\n",
              "</table>\n",
              "</div>"
            ],
            "text/plain": [
              "   instance_id           artist_name  ... mode_Major  mode_Minor\n",
              "0      32894.0              Röyksopp  ...          0           1\n",
              "1      46652.0  Thievery Corporation  ...          0           1\n",
              "2      30097.0        Dillon Francis  ...          1           0\n",
              "3      62177.0              Dubloadz  ...          1           0\n",
              "4      24907.0           What So Not  ...          1           0\n",
              "\n",
              "[5 rows x 30 columns]"
            ]
          },
          "metadata": {},
          "execution_count": 29
        }
      ]
    },
    {
      "cell_type": "code",
      "metadata": {
        "colab": {
          "base_uri": "https://localhost:8080/"
        },
        "id": "tvvuQJZljTha",
        "outputId": "59479e16-12c0-4f11-d574-12b35fb49087"
      },
      "source": [
        "music_df.info()"
      ],
      "execution_count": null,
      "outputs": [
        {
          "output_type": "stream",
          "name": "stdout",
          "text": [
            "<class 'pandas.core.frame.DataFrame'>\n",
            "Int64Index: 45020 entries, 0 to 50004\n",
            "Data columns (total 30 columns):\n",
            " #   Column            Non-Null Count  Dtype  \n",
            "---  ------            --------------  -----  \n",
            " 0   instance_id       45020 non-null  float64\n",
            " 1   artist_name       45020 non-null  object \n",
            " 2   track_name        45020 non-null  object \n",
            " 3   popularity        45020 non-null  float64\n",
            " 4   acousticness      45020 non-null  float64\n",
            " 5   danceability      45020 non-null  float64\n",
            " 6   duration_ms       45020 non-null  float64\n",
            " 7   energy            45020 non-null  float64\n",
            " 8   instrumentalness  45020 non-null  float64\n",
            " 9   liveness          45020 non-null  float64\n",
            " 10  loudness          45020 non-null  float64\n",
            " 11  speechiness       45020 non-null  float64\n",
            " 12  tempo             45020 non-null  float64\n",
            " 13  obtained_date     45020 non-null  object \n",
            " 14  valence           45020 non-null  float64\n",
            " 15  music_genre       45020 non-null  object \n",
            " 16  key_A             45020 non-null  uint8  \n",
            " 17  key_A#            45020 non-null  uint8  \n",
            " 18  key_B             45020 non-null  uint8  \n",
            " 19  key_C             45020 non-null  uint8  \n",
            " 20  key_C#            45020 non-null  uint8  \n",
            " 21  key_D             45020 non-null  uint8  \n",
            " 22  key_D#            45020 non-null  uint8  \n",
            " 23  key_E             45020 non-null  uint8  \n",
            " 24  key_F             45020 non-null  uint8  \n",
            " 25  key_F#            45020 non-null  uint8  \n",
            " 26  key_G             45020 non-null  uint8  \n",
            " 27  key_G#            45020 non-null  uint8  \n",
            " 28  mode_Major        45020 non-null  uint8  \n",
            " 29  mode_Minor        45020 non-null  uint8  \n",
            "dtypes: float64(12), object(4), uint8(14)\n",
            "memory usage: 7.7+ MB\n"
          ]
        }
      ]
    },
    {
      "cell_type": "markdown",
      "metadata": {
        "id": "0PBxRa84iQ0U"
      },
      "source": [
        "##Modeling"
      ]
    },
    {
      "cell_type": "code",
      "metadata": {
        "id": "aRAPfrviizmW"
      },
      "source": [
        "# drop unecessary/relatively low impact variables as decided from EDA\n",
        "X = music_df.drop(['instance_id', 'artist_name', 'track_name', 'obtained_date', 'acousticness', 'liveness', 'music_genre'], axis=1)\n",
        "y = music_df['music_genre']"
      ],
      "execution_count": null,
      "outputs": []
    },
    {
      "cell_type": "code",
      "metadata": {
        "id": "E1c__v_JjmNN"
      },
      "source": [
        "cols_to_scale = list(X)\n",
        "cols_to_scale.sort()"
      ],
      "execution_count": null,
      "outputs": []
    },
    {
      "cell_type": "code",
      "metadata": {
        "id": "LycP_WM5jr55"
      },
      "source": [
        "# Performing Z-Score for normalizing the variables\n",
        "sc = StandardScaler()\n",
        "sc.fit(X[cols_to_scale])\n",
        "X_scaled = pd.DataFrame(sc.transform(X[cols_to_scale]), columns=X.columns)"
      ],
      "execution_count": null,
      "outputs": []
    },
    {
      "cell_type": "code",
      "metadata": {
        "colab": {
          "base_uri": "https://localhost:8080/",
          "height": 314
        },
        "id": "3Ym3CmGwj4fH",
        "outputId": "cc97e5ee-826d-44fe-cb96-b651fd55cd91"
      },
      "source": [
        "X.describe()"
      ],
      "execution_count": null,
      "outputs": [
        {
          "output_type": "execute_result",
          "data": {
            "text/html": [
              "<div>\n",
              "<style scoped>\n",
              "    .dataframe tbody tr th:only-of-type {\n",
              "        vertical-align: middle;\n",
              "    }\n",
              "\n",
              "    .dataframe tbody tr th {\n",
              "        vertical-align: top;\n",
              "    }\n",
              "\n",
              "    .dataframe thead th {\n",
              "        text-align: right;\n",
              "    }\n",
              "</style>\n",
              "<table border=\"1\" class=\"dataframe\">\n",
              "  <thead>\n",
              "    <tr style=\"text-align: right;\">\n",
              "      <th></th>\n",
              "      <th>popularity</th>\n",
              "      <th>danceability</th>\n",
              "      <th>duration_ms</th>\n",
              "      <th>energy</th>\n",
              "      <th>instrumentalness</th>\n",
              "      <th>loudness</th>\n",
              "      <th>speechiness</th>\n",
              "      <th>tempo</th>\n",
              "      <th>valence</th>\n",
              "      <th>key_A</th>\n",
              "      <th>key_A#</th>\n",
              "      <th>key_B</th>\n",
              "      <th>key_C</th>\n",
              "      <th>key_C#</th>\n",
              "      <th>key_D</th>\n",
              "      <th>key_D#</th>\n",
              "      <th>key_E</th>\n",
              "      <th>key_F</th>\n",
              "      <th>key_F#</th>\n",
              "      <th>key_G</th>\n",
              "      <th>key_G#</th>\n",
              "      <th>mode_Major</th>\n",
              "      <th>mode_Minor</th>\n",
              "    </tr>\n",
              "  </thead>\n",
              "  <tbody>\n",
              "    <tr>\n",
              "      <th>count</th>\n",
              "      <td>45020.000000</td>\n",
              "      <td>45020.000000</td>\n",
              "      <td>4.502000e+04</td>\n",
              "      <td>45020.000000</td>\n",
              "      <td>45020.000000</td>\n",
              "      <td>45020.000000</td>\n",
              "      <td>45020.000000</td>\n",
              "      <td>45020.000000</td>\n",
              "      <td>45020.000000</td>\n",
              "      <td>45020.000000</td>\n",
              "      <td>45020.000000</td>\n",
              "      <td>45020.000000</td>\n",
              "      <td>45020.000000</td>\n",
              "      <td>45020.000000</td>\n",
              "      <td>45020.000000</td>\n",
              "      <td>45020.000000</td>\n",
              "      <td>45020.000000</td>\n",
              "      <td>45020.000000</td>\n",
              "      <td>45020.000000</td>\n",
              "      <td>45020.000000</td>\n",
              "      <td>45020.000000</td>\n",
              "      <td>45020.000000</td>\n",
              "      <td>45020.000000</td>\n",
              "    </tr>\n",
              "    <tr>\n",
              "      <th>mean</th>\n",
              "      <td>44.263327</td>\n",
              "      <td>0.558532</td>\n",
              "      <td>2.211695e+05</td>\n",
              "      <td>0.599553</td>\n",
              "      <td>0.181843</td>\n",
              "      <td>-9.137016</td>\n",
              "      <td>0.093783</td>\n",
              "      <td>119.952961</td>\n",
              "      <td>0.456394</td>\n",
              "      <td>0.097379</td>\n",
              "      <td>0.066704</td>\n",
              "      <td>0.075478</td>\n",
              "      <td>0.110684</td>\n",
              "      <td>0.108974</td>\n",
              "      <td>0.104820</td>\n",
              "      <td>0.031697</td>\n",
              "      <td>0.075056</td>\n",
              "      <td>0.086184</td>\n",
              "      <td>0.061750</td>\n",
              "      <td>0.113949</td>\n",
              "      <td>0.067326</td>\n",
              "      <td>0.641359</td>\n",
              "      <td>0.358641</td>\n",
              "    </tr>\n",
              "    <tr>\n",
              "      <th>std</th>\n",
              "      <td>15.553972</td>\n",
              "      <td>0.178858</td>\n",
              "      <td>1.276884e+05</td>\n",
              "      <td>0.264510</td>\n",
              "      <td>0.325847</td>\n",
              "      <td>6.156400</td>\n",
              "      <td>0.101469</td>\n",
              "      <td>30.641701</td>\n",
              "      <td>0.247161</td>\n",
              "      <td>0.296476</td>\n",
              "      <td>0.249511</td>\n",
              "      <td>0.264163</td>\n",
              "      <td>0.313744</td>\n",
              "      <td>0.311610</td>\n",
              "      <td>0.306325</td>\n",
              "      <td>0.175194</td>\n",
              "      <td>0.263484</td>\n",
              "      <td>0.280639</td>\n",
              "      <td>0.240704</td>\n",
              "      <td>0.317753</td>\n",
              "      <td>0.250588</td>\n",
              "      <td>0.479607</td>\n",
              "      <td>0.479607</td>\n",
              "    </tr>\n",
              "    <tr>\n",
              "      <th>min</th>\n",
              "      <td>0.000000</td>\n",
              "      <td>0.059600</td>\n",
              "      <td>-1.000000e+00</td>\n",
              "      <td>0.000792</td>\n",
              "      <td>0.000000</td>\n",
              "      <td>-47.046000</td>\n",
              "      <td>0.022300</td>\n",
              "      <td>34.347000</td>\n",
              "      <td>0.000000</td>\n",
              "      <td>0.000000</td>\n",
              "      <td>0.000000</td>\n",
              "      <td>0.000000</td>\n",
              "      <td>0.000000</td>\n",
              "      <td>0.000000</td>\n",
              "      <td>0.000000</td>\n",
              "      <td>0.000000</td>\n",
              "      <td>0.000000</td>\n",
              "      <td>0.000000</td>\n",
              "      <td>0.000000</td>\n",
              "      <td>0.000000</td>\n",
              "      <td>0.000000</td>\n",
              "      <td>0.000000</td>\n",
              "      <td>0.000000</td>\n",
              "    </tr>\n",
              "    <tr>\n",
              "      <th>25%</th>\n",
              "      <td>34.000000</td>\n",
              "      <td>0.442000</td>\n",
              "      <td>1.747230e+05</td>\n",
              "      <td>0.432000</td>\n",
              "      <td>0.000000</td>\n",
              "      <td>-10.860000</td>\n",
              "      <td>0.036100</td>\n",
              "      <td>94.941500</td>\n",
              "      <td>0.257000</td>\n",
              "      <td>0.000000</td>\n",
              "      <td>0.000000</td>\n",
              "      <td>0.000000</td>\n",
              "      <td>0.000000</td>\n",
              "      <td>0.000000</td>\n",
              "      <td>0.000000</td>\n",
              "      <td>0.000000</td>\n",
              "      <td>0.000000</td>\n",
              "      <td>0.000000</td>\n",
              "      <td>0.000000</td>\n",
              "      <td>0.000000</td>\n",
              "      <td>0.000000</td>\n",
              "      <td>0.000000</td>\n",
              "      <td>0.000000</td>\n",
              "    </tr>\n",
              "    <tr>\n",
              "      <th>50%</th>\n",
              "      <td>45.000000</td>\n",
              "      <td>0.568000</td>\n",
              "      <td>2.194385e+05</td>\n",
              "      <td>0.642000</td>\n",
              "      <td>0.000159</td>\n",
              "      <td>-7.284000</td>\n",
              "      <td>0.048900</td>\n",
              "      <td>119.879000</td>\n",
              "      <td>0.448000</td>\n",
              "      <td>0.000000</td>\n",
              "      <td>0.000000</td>\n",
              "      <td>0.000000</td>\n",
              "      <td>0.000000</td>\n",
              "      <td>0.000000</td>\n",
              "      <td>0.000000</td>\n",
              "      <td>0.000000</td>\n",
              "      <td>0.000000</td>\n",
              "      <td>0.000000</td>\n",
              "      <td>0.000000</td>\n",
              "      <td>0.000000</td>\n",
              "      <td>0.000000</td>\n",
              "      <td>1.000000</td>\n",
              "      <td>0.000000</td>\n",
              "    </tr>\n",
              "    <tr>\n",
              "      <th>75%</th>\n",
              "      <td>56.000000</td>\n",
              "      <td>0.687000</td>\n",
              "      <td>2.686400e+05</td>\n",
              "      <td>0.815250</td>\n",
              "      <td>0.154000</td>\n",
              "      <td>-5.177000</td>\n",
              "      <td>0.098800</td>\n",
              "      <td>140.471250</td>\n",
              "      <td>0.648000</td>\n",
              "      <td>0.000000</td>\n",
              "      <td>0.000000</td>\n",
              "      <td>0.000000</td>\n",
              "      <td>0.000000</td>\n",
              "      <td>0.000000</td>\n",
              "      <td>0.000000</td>\n",
              "      <td>0.000000</td>\n",
              "      <td>0.000000</td>\n",
              "      <td>0.000000</td>\n",
              "      <td>0.000000</td>\n",
              "      <td>0.000000</td>\n",
              "      <td>0.000000</td>\n",
              "      <td>1.000000</td>\n",
              "      <td>1.000000</td>\n",
              "    </tr>\n",
              "    <tr>\n",
              "      <th>max</th>\n",
              "      <td>99.000000</td>\n",
              "      <td>0.986000</td>\n",
              "      <td>4.497994e+06</td>\n",
              "      <td>0.999000</td>\n",
              "      <td>0.996000</td>\n",
              "      <td>3.744000</td>\n",
              "      <td>0.942000</td>\n",
              "      <td>220.276000</td>\n",
              "      <td>0.992000</td>\n",
              "      <td>1.000000</td>\n",
              "      <td>1.000000</td>\n",
              "      <td>1.000000</td>\n",
              "      <td>1.000000</td>\n",
              "      <td>1.000000</td>\n",
              "      <td>1.000000</td>\n",
              "      <td>1.000000</td>\n",
              "      <td>1.000000</td>\n",
              "      <td>1.000000</td>\n",
              "      <td>1.000000</td>\n",
              "      <td>1.000000</td>\n",
              "      <td>1.000000</td>\n",
              "      <td>1.000000</td>\n",
              "      <td>1.000000</td>\n",
              "    </tr>\n",
              "  </tbody>\n",
              "</table>\n",
              "</div>"
            ],
            "text/plain": [
              "         popularity  danceability  ...    mode_Major    mode_Minor\n",
              "count  45020.000000  45020.000000  ...  45020.000000  45020.000000\n",
              "mean      44.263327      0.558532  ...      0.641359      0.358641\n",
              "std       15.553972      0.178858  ...      0.479607      0.479607\n",
              "min        0.000000      0.059600  ...      0.000000      0.000000\n",
              "25%       34.000000      0.442000  ...      0.000000      0.000000\n",
              "50%       45.000000      0.568000  ...      1.000000      0.000000\n",
              "75%       56.000000      0.687000  ...      1.000000      1.000000\n",
              "max       99.000000      0.986000  ...      1.000000      1.000000\n",
              "\n",
              "[8 rows x 23 columns]"
            ]
          },
          "metadata": {},
          "execution_count": 52
        }
      ]
    },
    {
      "cell_type": "code",
      "metadata": {
        "colab": {
          "base_uri": "https://localhost:8080/",
          "height": 397
        },
        "id": "3eAz22L1kJ81",
        "outputId": "79cb956b-5a69-4bfa-be31-7ef04721d411"
      },
      "source": [
        "# Validate the output\n",
        "X_scaled.describe()"
      ],
      "execution_count": null,
      "outputs": [
        {
          "output_type": "execute_result",
          "data": {
            "text/html": [
              "<div>\n",
              "<style scoped>\n",
              "    .dataframe tbody tr th:only-of-type {\n",
              "        vertical-align: middle;\n",
              "    }\n",
              "\n",
              "    .dataframe tbody tr th {\n",
              "        vertical-align: top;\n",
              "    }\n",
              "\n",
              "    .dataframe thead th {\n",
              "        text-align: right;\n",
              "    }\n",
              "</style>\n",
              "<table border=\"1\" class=\"dataframe\">\n",
              "  <thead>\n",
              "    <tr style=\"text-align: right;\">\n",
              "      <th></th>\n",
              "      <th>popularity</th>\n",
              "      <th>danceability</th>\n",
              "      <th>duration_ms</th>\n",
              "      <th>energy</th>\n",
              "      <th>instrumentalness</th>\n",
              "      <th>loudness</th>\n",
              "      <th>speechiness</th>\n",
              "      <th>tempo</th>\n",
              "      <th>valence</th>\n",
              "      <th>key_A</th>\n",
              "      <th>key_A#</th>\n",
              "      <th>key_B</th>\n",
              "      <th>key_C</th>\n",
              "      <th>key_C#</th>\n",
              "      <th>key_D</th>\n",
              "      <th>key_D#</th>\n",
              "      <th>key_E</th>\n",
              "      <th>key_F</th>\n",
              "      <th>key_F#</th>\n",
              "      <th>key_G</th>\n",
              "      <th>key_G#</th>\n",
              "      <th>mode_Major</th>\n",
              "      <th>mode_Minor</th>\n",
              "    </tr>\n",
              "  </thead>\n",
              "  <tbody>\n",
              "    <tr>\n",
              "      <th>count</th>\n",
              "      <td>4.502000e+04</td>\n",
              "      <td>4.502000e+04</td>\n",
              "      <td>4.502000e+04</td>\n",
              "      <td>4.502000e+04</td>\n",
              "      <td>4.502000e+04</td>\n",
              "      <td>4.502000e+04</td>\n",
              "      <td>4.502000e+04</td>\n",
              "      <td>4.502000e+04</td>\n",
              "      <td>4.502000e+04</td>\n",
              "      <td>4.502000e+04</td>\n",
              "      <td>4.502000e+04</td>\n",
              "      <td>4.502000e+04</td>\n",
              "      <td>4.502000e+04</td>\n",
              "      <td>4.502000e+04</td>\n",
              "      <td>4.502000e+04</td>\n",
              "      <td>4.502000e+04</td>\n",
              "      <td>4.502000e+04</td>\n",
              "      <td>4.502000e+04</td>\n",
              "      <td>4.502000e+04</td>\n",
              "      <td>4.502000e+04</td>\n",
              "      <td>4.502000e+04</td>\n",
              "      <td>4.502000e+04</td>\n",
              "      <td>4.502000e+04</td>\n",
              "    </tr>\n",
              "    <tr>\n",
              "      <th>mean</th>\n",
              "      <td>2.287079e-16</td>\n",
              "      <td>8.762673e-16</td>\n",
              "      <td>4.442668e-16</td>\n",
              "      <td>-2.113009e-14</td>\n",
              "      <td>5.805337e-15</td>\n",
              "      <td>-6.048474e-15</td>\n",
              "      <td>-4.817843e-15</td>\n",
              "      <td>-7.172628e-16</td>\n",
              "      <td>6.072858e-15</td>\n",
              "      <td>1.017704e-15</td>\n",
              "      <td>3.104793e-15</td>\n",
              "      <td>1.425426e-15</td>\n",
              "      <td>-7.847309e-15</td>\n",
              "      <td>2.860588e-15</td>\n",
              "      <td>3.380813e-15</td>\n",
              "      <td>1.977055e-15</td>\n",
              "      <td>2.727420e-16</td>\n",
              "      <td>3.400982e-15</td>\n",
              "      <td>-3.400982e-15</td>\n",
              "      <td>-4.627968e-15</td>\n",
              "      <td>9.440230e-15</td>\n",
              "      <td>-5.774985e-16</td>\n",
              "      <td>2.008019e-16</td>\n",
              "    </tr>\n",
              "    <tr>\n",
              "      <th>std</th>\n",
              "      <td>1.000011e+00</td>\n",
              "      <td>1.000011e+00</td>\n",
              "      <td>1.000011e+00</td>\n",
              "      <td>1.000011e+00</td>\n",
              "      <td>1.000011e+00</td>\n",
              "      <td>1.000011e+00</td>\n",
              "      <td>1.000011e+00</td>\n",
              "      <td>1.000011e+00</td>\n",
              "      <td>1.000011e+00</td>\n",
              "      <td>1.000011e+00</td>\n",
              "      <td>1.000011e+00</td>\n",
              "      <td>1.000011e+00</td>\n",
              "      <td>1.000011e+00</td>\n",
              "      <td>1.000011e+00</td>\n",
              "      <td>1.000011e+00</td>\n",
              "      <td>1.000011e+00</td>\n",
              "      <td>1.000011e+00</td>\n",
              "      <td>1.000011e+00</td>\n",
              "      <td>1.000011e+00</td>\n",
              "      <td>1.000011e+00</td>\n",
              "      <td>1.000011e+00</td>\n",
              "      <td>1.000011e+00</td>\n",
              "      <td>1.000011e+00</td>\n",
              "    </tr>\n",
              "    <tr>\n",
              "      <th>min</th>\n",
              "      <td>-2.789572e+00</td>\n",
              "      <td>-1.732130e+00</td>\n",
              "      <td>-2.263691e+00</td>\n",
              "      <td>-5.580676e-01</td>\n",
              "      <td>-3.284580e-01</td>\n",
              "      <td>-2.673407e-01</td>\n",
              "      <td>-2.857263e-01</td>\n",
              "      <td>-3.527887e-01</td>\n",
              "      <td>-3.497162e-01</td>\n",
              "      <td>-3.421898e-01</td>\n",
              "      <td>-1.809271e-01</td>\n",
              "      <td>-2.848613e-01</td>\n",
              "      <td>-3.071028e-01</td>\n",
              "      <td>-2.565432e-01</td>\n",
              "      <td>-3.586135e-01</td>\n",
              "      <td>-2.686737e-01</td>\n",
              "      <td>-6.157723e+00</td>\n",
              "      <td>-1.337276e+00</td>\n",
              "      <td>-7.477889e-01</td>\n",
              "      <td>-2.845821e+00</td>\n",
              "      <td>-7.044925e-01</td>\n",
              "      <td>-2.793804e+00</td>\n",
              "      <td>-1.846570e+00</td>\n",
              "    </tr>\n",
              "    <tr>\n",
              "      <th>25%</th>\n",
              "      <td>-6.515422e-01</td>\n",
              "      <td>-3.637528e-01</td>\n",
              "      <td>-6.334556e-01</td>\n",
              "      <td>-5.580676e-01</td>\n",
              "      <td>-3.284580e-01</td>\n",
              "      <td>-2.673407e-01</td>\n",
              "      <td>-2.857263e-01</td>\n",
              "      <td>-3.527887e-01</td>\n",
              "      <td>-3.497162e-01</td>\n",
              "      <td>-3.421898e-01</td>\n",
              "      <td>-1.809271e-01</td>\n",
              "      <td>-2.848613e-01</td>\n",
              "      <td>-3.071028e-01</td>\n",
              "      <td>-2.565432e-01</td>\n",
              "      <td>-3.586135e-01</td>\n",
              "      <td>-2.686737e-01</td>\n",
              "      <td>-2.798719e-01</td>\n",
              "      <td>-1.337276e+00</td>\n",
              "      <td>-7.477889e-01</td>\n",
              "      <td>-6.598598e-01</td>\n",
              "      <td>-5.684884e-01</td>\n",
              "      <td>-8.162647e-01</td>\n",
              "      <td>-8.067480e-01</td>\n",
              "    </tr>\n",
              "    <tr>\n",
              "      <th>50%</th>\n",
              "      <td>5.293428e-02</td>\n",
              "      <td>-1.355658e-02</td>\n",
              "      <td>1.604754e-01</td>\n",
              "      <td>-5.575796e-01</td>\n",
              "      <td>-3.284580e-01</td>\n",
              "      <td>-2.673407e-01</td>\n",
              "      <td>-2.857263e-01</td>\n",
              "      <td>-3.527887e-01</td>\n",
              "      <td>-3.497162e-01</td>\n",
              "      <td>-3.421898e-01</td>\n",
              "      <td>-1.809271e-01</td>\n",
              "      <td>-2.848613e-01</td>\n",
              "      <td>-3.071028e-01</td>\n",
              "      <td>-2.565432e-01</td>\n",
              "      <td>-3.586135e-01</td>\n",
              "      <td>-2.686737e-01</td>\n",
              "      <td>3.009934e-01</td>\n",
              "      <td>7.477889e-01</td>\n",
              "      <td>-7.477889e-01</td>\n",
              "      <td>4.736287e-02</td>\n",
              "      <td>-4.423398e-01</td>\n",
              "      <td>-2.413750e-03</td>\n",
              "      <td>-3.396229e-02</td>\n",
              "    </tr>\n",
              "    <tr>\n",
              "      <th>75%</th>\n",
              "      <td>7.182732e-01</td>\n",
              "      <td>3.717724e-01</td>\n",
              "      <td>8.154686e-01</td>\n",
              "      <td>-8.544756e-02</td>\n",
              "      <td>-3.284580e-01</td>\n",
              "      <td>-2.673407e-01</td>\n",
              "      <td>-2.857263e-01</td>\n",
              "      <td>-3.527887e-01</td>\n",
              "      <td>-3.497162e-01</td>\n",
              "      <td>-3.421898e-01</td>\n",
              "      <td>-1.809271e-01</td>\n",
              "      <td>-2.848613e-01</td>\n",
              "      <td>-3.071028e-01</td>\n",
              "      <td>-2.565432e-01</td>\n",
              "      <td>-3.586135e-01</td>\n",
              "      <td>-2.686737e-01</td>\n",
              "      <td>6.432427e-01</td>\n",
              "      <td>7.477889e-01</td>\n",
              "      <td>1.337276e+00</td>\n",
              "      <td>7.545856e-01</td>\n",
              "      <td>4.944282e-02</td>\n",
              "      <td>6.696272e-01</td>\n",
              "      <td>7.752374e-01</td>\n",
              "    </tr>\n",
              "    <tr>\n",
              "      <th>max</th>\n",
              "      <td>2.390007e+00</td>\n",
              "      <td>3.349460e+01</td>\n",
              "      <td>1.510158e+00</td>\n",
              "      <td>2.498618e+00</td>\n",
              "      <td>3.044530e+00</td>\n",
              "      <td>3.740545e+00</td>\n",
              "      <td>3.499853e+00</td>\n",
              "      <td>2.834558e+00</td>\n",
              "      <td>2.859461e+00</td>\n",
              "      <td>2.922355e+00</td>\n",
              "      <td>5.527088e+00</td>\n",
              "      <td>3.510480e+00</td>\n",
              "      <td>3.256239e+00</td>\n",
              "      <td>3.897980e+00</td>\n",
              "      <td>2.788517e+00</td>\n",
              "      <td>3.721987e+00</td>\n",
              "      <td>2.092320e+00</td>\n",
              "      <td>7.477889e-01</td>\n",
              "      <td>1.337276e+00</td>\n",
              "      <td>3.519183e+00</td>\n",
              "      <td>8.359485e+00</td>\n",
              "      <td>3.274105e+00</td>\n",
              "      <td>2.167061e+00</td>\n",
              "    </tr>\n",
              "  </tbody>\n",
              "</table>\n",
              "</div>"
            ],
            "text/plain": [
              "         popularity  danceability  ...    mode_Major    mode_Minor\n",
              "count  4.502000e+04  4.502000e+04  ...  4.502000e+04  4.502000e+04\n",
              "mean   2.287079e-16  8.762673e-16  ... -5.774985e-16  2.008019e-16\n",
              "std    1.000011e+00  1.000011e+00  ...  1.000011e+00  1.000011e+00\n",
              "min   -2.789572e+00 -1.732130e+00  ... -2.793804e+00 -1.846570e+00\n",
              "25%   -6.515422e-01 -3.637528e-01  ... -8.162647e-01 -8.067480e-01\n",
              "50%    5.293428e-02 -1.355658e-02  ... -2.413750e-03 -3.396229e-02\n",
              "75%    7.182732e-01  3.717724e-01  ...  6.696272e-01  7.752374e-01\n",
              "max    2.390007e+00  3.349460e+01  ...  3.274105e+00  2.167061e+00\n",
              "\n",
              "[8 rows x 23 columns]"
            ]
          },
          "metadata": {},
          "execution_count": 53
        }
      ]
    },
    {
      "cell_type": "code",
      "metadata": {
        "id": "E_Y2KJjNkhGn"
      },
      "source": [
        "# splitting data to train and test\n",
        "X_train, X_test, y_train, y_test = train_test_split(X_scaled, y, random_state=25, stratify=y, train_size=0.8)"
      ],
      "execution_count": null,
      "outputs": []
    },
    {
      "cell_type": "code",
      "metadata": {
        "id": "G4W1hThNkkAZ"
      },
      "source": [
        "# XGBoost Model for genre type\n",
        "mlp_model = MLPClassifier(\n",
        "    hidden_layer_sizes=(150,100,10),\n",
        "    activation='relu',\n",
        "    solver='adam',\n",
        "    alpha=0.0005,\n",
        "    learning_rate='adaptive',\n",
        "    learning_rate_init= 0.001,\n",
        "    max_iter=2000,\n",
        "    random_state=2020,\n",
        "    verbose=True\n",
        ")"
      ],
      "execution_count": null,
      "outputs": []
    },
    {
      "cell_type": "code",
      "metadata": {
        "colab": {
          "base_uri": "https://localhost:8080/"
        },
        "id": "lppXARcmks89",
        "outputId": "2377aeef-172f-4cdc-a805-20dbb8fb4b21"
      },
      "source": [
        "# fitting initial model (hyperparameters above)\n",
        "mlp_model.fit(X_scaled, y)"
      ],
      "execution_count": null,
      "outputs": [
        {
          "output_type": "stream",
          "name": "stdout",
          "text": [
            "Iteration 1, loss = 1.66701918\n",
            "Iteration 2, loss = 1.26319057\n",
            "Iteration 3, loss = 1.21676779\n",
            "Iteration 4, loss = 1.18934980\n",
            "Iteration 5, loss = 1.16912088\n",
            "Iteration 6, loss = 1.15426845\n",
            "Iteration 7, loss = 1.14111976\n",
            "Iteration 8, loss = 1.12850272\n",
            "Iteration 9, loss = 1.11881155\n",
            "Iteration 10, loss = 1.10797593\n",
            "Iteration 11, loss = 1.10056428\n",
            "Iteration 12, loss = 1.09400881\n",
            "Iteration 13, loss = 1.08808965\n",
            "Iteration 14, loss = 1.08383522\n",
            "Iteration 15, loss = 1.07608677\n",
            "Iteration 16, loss = 1.07213490\n",
            "Iteration 17, loss = 1.06761393\n",
            "Iteration 18, loss = 1.06259620\n",
            "Iteration 19, loss = 1.06027155\n",
            "Iteration 20, loss = 1.05605062\n",
            "Iteration 21, loss = 1.05188391\n",
            "Iteration 22, loss = 1.04841172\n",
            "Iteration 23, loss = 1.04540460\n",
            "Iteration 24, loss = 1.04287004\n",
            "Iteration 25, loss = 1.03972706\n",
            "Iteration 26, loss = 1.03785067\n",
            "Iteration 27, loss = 1.03291412\n",
            "Iteration 28, loss = 1.03168542\n",
            "Iteration 29, loss = 1.02794377\n",
            "Iteration 30, loss = 1.02408612\n",
            "Iteration 31, loss = 1.02178696\n",
            "Iteration 32, loss = 1.01880609\n",
            "Iteration 33, loss = 1.01774176\n",
            "Iteration 34, loss = 1.01519409\n",
            "Iteration 35, loss = 1.01428530\n",
            "Iteration 36, loss = 1.01007698\n",
            "Iteration 37, loss = 1.00735889\n",
            "Iteration 38, loss = 1.00496711\n",
            "Iteration 39, loss = 1.00342909\n",
            "Iteration 40, loss = 0.99945511\n",
            "Iteration 41, loss = 0.99848272\n",
            "Iteration 42, loss = 0.99708062\n",
            "Iteration 43, loss = 0.99411725\n",
            "Iteration 44, loss = 0.99256309\n",
            "Iteration 45, loss = 0.98956462\n",
            "Iteration 46, loss = 0.98674460\n",
            "Iteration 47, loss = 0.98549554\n",
            "Iteration 48, loss = 0.98516883\n",
            "Iteration 49, loss = 0.98267344\n",
            "Iteration 50, loss = 0.98038828\n",
            "Iteration 51, loss = 0.97898223\n",
            "Iteration 52, loss = 0.97665881\n",
            "Iteration 53, loss = 0.97387666\n",
            "Iteration 54, loss = 0.97312135\n",
            "Iteration 55, loss = 0.97151797\n",
            "Iteration 56, loss = 0.97064859\n",
            "Iteration 57, loss = 0.96979913\n",
            "Iteration 58, loss = 0.96568274\n",
            "Iteration 59, loss = 0.96514611\n",
            "Iteration 60, loss = 0.96387011\n",
            "Iteration 61, loss = 0.96257591\n",
            "Iteration 62, loss = 0.96056279\n",
            "Iteration 63, loss = 0.95912110\n",
            "Iteration 64, loss = 0.95726700\n",
            "Iteration 65, loss = 0.95674579\n",
            "Iteration 66, loss = 0.95534969\n",
            "Iteration 67, loss = 0.95411696\n",
            "Iteration 68, loss = 0.94940435\n",
            "Iteration 69, loss = 0.95051993\n",
            "Iteration 70, loss = 0.94975326\n",
            "Iteration 71, loss = 0.94729574\n",
            "Iteration 72, loss = 0.94574056\n",
            "Iteration 73, loss = 0.94542494\n",
            "Iteration 74, loss = 0.94424103\n",
            "Iteration 75, loss = 0.94056071\n",
            "Iteration 76, loss = 0.94062616\n",
            "Iteration 77, loss = 0.93933143\n",
            "Iteration 78, loss = 0.93705807\n",
            "Iteration 79, loss = 0.93514972\n",
            "Iteration 80, loss = 0.93632394\n",
            "Iteration 81, loss = 0.93526967\n",
            "Iteration 82, loss = 0.93452101\n",
            "Iteration 83, loss = 0.93116427\n",
            "Iteration 84, loss = 0.92899993\n",
            "Iteration 85, loss = 0.92983144\n",
            "Iteration 86, loss = 0.92707087\n",
            "Iteration 87, loss = 0.92800658\n",
            "Iteration 88, loss = 0.92725655\n",
            "Iteration 89, loss = 0.92502400\n",
            "Iteration 90, loss = 0.92360189\n",
            "Iteration 91, loss = 0.92403972\n",
            "Iteration 92, loss = 0.92016587\n",
            "Iteration 93, loss = 0.92010402\n",
            "Iteration 94, loss = 0.92072954\n",
            "Iteration 95, loss = 0.91815577\n",
            "Iteration 96, loss = 0.91718497\n",
            "Iteration 97, loss = 0.91692054\n",
            "Iteration 98, loss = 0.91228003\n",
            "Iteration 99, loss = 0.91214175\n",
            "Iteration 100, loss = 0.91117519\n",
            "Iteration 101, loss = 0.91098389\n",
            "Iteration 102, loss = 0.90864154\n",
            "Iteration 103, loss = 0.91077431\n",
            "Iteration 104, loss = 0.90558633\n",
            "Iteration 105, loss = 0.90618387\n",
            "Iteration 106, loss = 0.90336583\n",
            "Iteration 107, loss = 0.90221390\n",
            "Iteration 108, loss = 0.90437772\n",
            "Iteration 109, loss = 0.90266063\n",
            "Iteration 110, loss = 0.90084427\n",
            "Iteration 111, loss = 0.89844563\n",
            "Iteration 112, loss = 0.89935683\n",
            "Iteration 113, loss = 0.89674651\n",
            "Iteration 114, loss = 0.89776019\n",
            "Iteration 115, loss = 0.89478860\n",
            "Iteration 116, loss = 0.89466930\n",
            "Iteration 117, loss = 0.89364908\n",
            "Iteration 118, loss = 0.89302896\n",
            "Iteration 119, loss = 0.89184334\n",
            "Iteration 120, loss = 0.88981310\n",
            "Iteration 121, loss = 0.89329501\n",
            "Iteration 122, loss = 0.88844902\n",
            "Iteration 123, loss = 0.88740716\n",
            "Iteration 124, loss = 0.88840194\n",
            "Iteration 125, loss = 0.88364913\n",
            "Iteration 126, loss = 0.88468622\n",
            "Iteration 127, loss = 0.88294132\n",
            "Iteration 128, loss = 0.88242367\n",
            "Iteration 129, loss = 0.88281783\n",
            "Iteration 130, loss = 0.88128244\n",
            "Iteration 131, loss = 0.87985559\n",
            "Iteration 132, loss = 0.87715671\n",
            "Iteration 133, loss = 0.87826615\n",
            "Iteration 134, loss = 0.87640776\n",
            "Iteration 135, loss = 0.87730319\n",
            "Iteration 136, loss = 0.87557782\n",
            "Iteration 137, loss = 0.87405365\n",
            "Iteration 138, loss = 0.87375813\n",
            "Iteration 139, loss = 0.87405922\n",
            "Iteration 140, loss = 0.87195122\n",
            "Iteration 141, loss = 0.87120874\n",
            "Iteration 142, loss = 0.87153646\n",
            "Iteration 143, loss = 0.86807690\n",
            "Iteration 144, loss = 0.86835212\n",
            "Iteration 145, loss = 0.86809298\n",
            "Iteration 146, loss = 0.86794973\n",
            "Iteration 147, loss = 0.86770136\n",
            "Iteration 148, loss = 0.86679245\n",
            "Iteration 149, loss = 0.86533467\n",
            "Iteration 150, loss = 0.86374114\n",
            "Iteration 151, loss = 0.86360743\n",
            "Iteration 152, loss = 0.86229432\n",
            "Iteration 153, loss = 0.86097760\n",
            "Iteration 154, loss = 0.86303391\n",
            "Iteration 155, loss = 0.86308241\n",
            "Iteration 156, loss = 0.86028960\n",
            "Iteration 157, loss = 0.85999666\n",
            "Iteration 158, loss = 0.85918597\n",
            "Iteration 159, loss = 0.85670786\n",
            "Iteration 160, loss = 0.85442837\n",
            "Iteration 161, loss = 0.85448635\n",
            "Iteration 162, loss = 0.85525464\n",
            "Iteration 163, loss = 0.85507361\n",
            "Iteration 164, loss = 0.85304934\n",
            "Iteration 165, loss = 0.85394609\n",
            "Iteration 166, loss = 0.85145291\n",
            "Iteration 167, loss = 0.84998164\n",
            "Iteration 168, loss = 0.84910296\n",
            "Iteration 169, loss = 0.84877137\n",
            "Iteration 170, loss = 0.84834991\n",
            "Iteration 171, loss = 0.85085281\n",
            "Iteration 172, loss = 0.84816040\n",
            "Iteration 173, loss = 0.84722583\n",
            "Iteration 174, loss = 0.84750956\n",
            "Iteration 175, loss = 0.84630714\n",
            "Iteration 176, loss = 0.84679428\n",
            "Iteration 177, loss = 0.84345241\n",
            "Iteration 178, loss = 0.84146587\n",
            "Iteration 179, loss = 0.84358564\n",
            "Iteration 180, loss = 0.84118159\n",
            "Iteration 181, loss = 0.84350212\n",
            "Iteration 182, loss = 0.83914797\n",
            "Iteration 183, loss = 0.84212979\n",
            "Iteration 184, loss = 0.83977802\n",
            "Iteration 185, loss = 0.84069163\n",
            "Iteration 186, loss = 0.83832287\n",
            "Iteration 187, loss = 0.83932200\n",
            "Iteration 188, loss = 0.83488403\n",
            "Iteration 189, loss = 0.83905199\n",
            "Iteration 190, loss = 0.83839670\n",
            "Iteration 191, loss = 0.83547634\n",
            "Iteration 192, loss = 0.83385733\n",
            "Iteration 193, loss = 0.83564040\n",
            "Iteration 194, loss = 0.83536578\n",
            "Iteration 195, loss = 0.83214080\n",
            "Iteration 196, loss = 0.83382569\n",
            "Iteration 197, loss = 0.82997341\n",
            "Iteration 198, loss = 0.83000829\n",
            "Iteration 199, loss = 0.83035066\n",
            "Iteration 200, loss = 0.83214537\n",
            "Iteration 201, loss = 0.82983645\n",
            "Iteration 202, loss = 0.82769053\n",
            "Iteration 203, loss = 0.83168808\n",
            "Iteration 204, loss = 0.82892165\n",
            "Iteration 205, loss = 0.82854705\n",
            "Iteration 206, loss = 0.82807670\n",
            "Iteration 207, loss = 0.82547415\n",
            "Iteration 208, loss = 0.82843819\n",
            "Iteration 209, loss = 0.82547254\n",
            "Iteration 210, loss = 0.82347670\n",
            "Iteration 211, loss = 0.81988131\n",
            "Iteration 212, loss = 0.82265839\n",
            "Iteration 213, loss = 0.82359408\n",
            "Iteration 214, loss = 0.82093925\n",
            "Iteration 215, loss = 0.82335236\n",
            "Iteration 216, loss = 0.81876217\n",
            "Iteration 217, loss = 0.81980133\n",
            "Iteration 218, loss = 0.81969653\n",
            "Iteration 219, loss = 0.82011814\n",
            "Iteration 220, loss = 0.81719489\n",
            "Iteration 221, loss = 0.81882694\n",
            "Iteration 222, loss = 0.81677626\n",
            "Iteration 223, loss = 0.81561839\n",
            "Iteration 224, loss = 0.81635891\n",
            "Iteration 225, loss = 0.81581211\n",
            "Iteration 226, loss = 0.81782208\n",
            "Iteration 227, loss = 0.81534833\n",
            "Iteration 228, loss = 0.81624530\n",
            "Iteration 229, loss = 0.81101829\n",
            "Iteration 230, loss = 0.81452931\n",
            "Iteration 231, loss = 0.81253049\n",
            "Iteration 232, loss = 0.81203998\n",
            "Iteration 233, loss = 0.81518161\n",
            "Iteration 234, loss = 0.81210552\n",
            "Iteration 235, loss = 0.80918612\n",
            "Iteration 236, loss = 0.80836569\n",
            "Iteration 237, loss = 0.81248608\n",
            "Iteration 238, loss = 0.80723360\n",
            "Iteration 239, loss = 0.80866951\n",
            "Iteration 240, loss = 0.81107629\n",
            "Iteration 241, loss = 0.80744728\n",
            "Iteration 242, loss = 0.80556736\n",
            "Iteration 243, loss = 0.80515007\n",
            "Iteration 244, loss = 0.80539592\n",
            "Iteration 245, loss = 0.80601927\n",
            "Iteration 246, loss = 0.80311359\n",
            "Iteration 247, loss = 0.80669643\n",
            "Iteration 248, loss = 0.80581144\n",
            "Iteration 249, loss = 0.80491803\n",
            "Iteration 250, loss = 0.80248941\n",
            "Iteration 251, loss = 0.80276413\n",
            "Iteration 252, loss = 0.80483820\n",
            "Iteration 253, loss = 0.80332003\n",
            "Iteration 254, loss = 0.80260331\n",
            "Iteration 255, loss = 0.80207216\n",
            "Iteration 256, loss = 0.80393111\n",
            "Iteration 257, loss = 0.79916214\n",
            "Iteration 258, loss = 0.80172978\n",
            "Iteration 259, loss = 0.79972029\n",
            "Iteration 260, loss = 0.79909956\n",
            "Iteration 261, loss = 0.79897646\n",
            "Iteration 262, loss = 0.79927055\n",
            "Iteration 263, loss = 0.79914269\n",
            "Iteration 264, loss = 0.80168146\n",
            "Iteration 265, loss = 0.79786368\n",
            "Iteration 266, loss = 0.79612410\n",
            "Iteration 267, loss = 0.79646151\n",
            "Iteration 268, loss = 0.79796431\n",
            "Iteration 269, loss = 0.79778920\n",
            "Iteration 270, loss = 0.79387499\n",
            "Iteration 271, loss = 0.79663082\n",
            "Iteration 272, loss = 0.79959608\n",
            "Iteration 273, loss = 0.79176738\n",
            "Iteration 274, loss = 0.78938342\n",
            "Iteration 275, loss = 0.79278100\n",
            "Iteration 276, loss = 0.79566150\n",
            "Iteration 277, loss = 0.79360638\n",
            "Iteration 278, loss = 0.78988973\n",
            "Iteration 279, loss = 0.79212246\n",
            "Iteration 280, loss = 0.79414980\n",
            "Iteration 281, loss = 0.78689226\n",
            "Iteration 282, loss = 0.78968056\n",
            "Iteration 283, loss = 0.79168315\n",
            "Iteration 284, loss = 0.78859983\n",
            "Iteration 285, loss = 0.79094730\n",
            "Iteration 286, loss = 0.78993985\n",
            "Iteration 287, loss = 0.78896812\n",
            "Iteration 288, loss = 0.78606757\n",
            "Iteration 289, loss = 0.78909759\n",
            "Iteration 290, loss = 0.78944306\n",
            "Iteration 291, loss = 0.78958004\n",
            "Iteration 292, loss = 0.78505818\n",
            "Iteration 293, loss = 0.78560674\n",
            "Iteration 294, loss = 0.78653362\n",
            "Iteration 295, loss = 0.78546728\n",
            "Iteration 296, loss = 0.78323793\n",
            "Iteration 297, loss = 0.78335809\n",
            "Iteration 298, loss = 0.78566987\n",
            "Iteration 299, loss = 0.78220060\n",
            "Iteration 300, loss = 0.78115187\n",
            "Iteration 301, loss = 0.78017856\n",
            "Iteration 302, loss = 0.78752481\n",
            "Iteration 303, loss = 0.78442933\n",
            "Iteration 304, loss = 0.77873475\n",
            "Iteration 305, loss = 0.78214428\n",
            "Iteration 306, loss = 0.77956891\n",
            "Iteration 307, loss = 0.78482461\n",
            "Iteration 308, loss = 0.77827133\n",
            "Iteration 309, loss = 0.77751192\n",
            "Iteration 310, loss = 0.78134783\n",
            "Iteration 311, loss = 0.77632711\n",
            "Iteration 312, loss = 0.77909157\n",
            "Iteration 313, loss = 0.77588533\n",
            "Iteration 314, loss = 0.77654806\n",
            "Iteration 315, loss = 0.77974983\n",
            "Iteration 316, loss = 0.77732140\n",
            "Iteration 317, loss = 0.77698546\n",
            "Iteration 318, loss = 0.77690211\n",
            "Iteration 319, loss = 0.77459537\n",
            "Iteration 320, loss = 0.77721804\n",
            "Iteration 321, loss = 0.77735372\n",
            "Iteration 322, loss = 0.77876463\n",
            "Iteration 323, loss = 0.77258029\n",
            "Iteration 324, loss = 0.77019669\n",
            "Iteration 325, loss = 0.77443434\n",
            "Iteration 326, loss = 0.77325130\n",
            "Iteration 327, loss = 0.77632627\n",
            "Iteration 328, loss = 0.77201013\n",
            "Iteration 329, loss = 0.77453870\n",
            "Iteration 330, loss = 0.77107400\n",
            "Iteration 331, loss = 0.77146842\n",
            "Iteration 332, loss = 0.77205677\n",
            "Iteration 333, loss = 0.77222656\n",
            "Iteration 334, loss = 0.77339014\n",
            "Iteration 335, loss = 0.77055345\n",
            "Training loss did not improve more than tol=0.000100 for 10 consecutive epochs. Stopping.\n"
          ]
        },
        {
          "output_type": "execute_result",
          "data": {
            "text/plain": [
              "MLPClassifier(activation='relu', alpha=0.0005, batch_size='auto', beta_1=0.9,\n",
              "              beta_2=0.999, early_stopping=False, epsilon=1e-08,\n",
              "              hidden_layer_sizes=(150, 100, 10), learning_rate='adaptive',\n",
              "              learning_rate_init=0.001, max_fun=15000, max_iter=2000,\n",
              "              momentum=0.9, n_iter_no_change=10, nesterovs_momentum=True,\n",
              "              power_t=0.5, random_state=2020, shuffle=True, solver='adam',\n",
              "              tol=0.0001, validation_fraction=0.1, verbose=True,\n",
              "              warm_start=False)"
            ]
          },
          "metadata": {},
          "execution_count": 88
        }
      ]
    },
    {
      "cell_type": "code",
      "metadata": {
        "id": "5nBuNsPRmxuR"
      },
      "source": [
        "y_pred = mlp_model.predict(X_test)"
      ],
      "execution_count": null,
      "outputs": []
    },
    {
      "cell_type": "code",
      "metadata": {
        "id": "0moeV9eFm7Fj"
      },
      "source": [
        "from sklearn.metrics import confusion_matrix"
      ],
      "execution_count": null,
      "outputs": []
    },
    {
      "cell_type": "code",
      "metadata": {
        "id": "9LIJDOFGm8xQ"
      },
      "source": [
        "cm = confusion_matrix(y_pred, y_test)"
      ],
      "execution_count": null,
      "outputs": []
    },
    {
      "cell_type": "code",
      "metadata": {
        "colab": {
          "base_uri": "https://localhost:8080/"
        },
        "id": "j9FVpQTRsaQF",
        "outputId": "d8c0c8e0-485a-4979-be33-af4da7779766"
      },
      "source": [
        "cm"
      ],
      "execution_count": null,
      "outputs": [
        {
          "output_type": "execute_result",
          "data": {
            "text/plain": [
              "array([[454,   7,  30,  14,  41,  41,  15,  20,  16,  43],\n",
              "       [  8, 808,  52,  28,   6,  36,   0,   9,   1,   4],\n",
              "       [ 23,  10, 579,  14,  12,  44,   0,  43,   1,   7],\n",
              "       [  4,  40,  13, 829,   2,   7,   2,  44,   0,   3],\n",
              "       [128,  17,  74,   4, 661,  26,   6,  39,   8,  62],\n",
              "       [ 21,   8,  17,   1,   5, 603,   5,  57,   2,   2],\n",
              "       [ 53,   0,   0,   0,  17,  16, 589,  12, 427,  16],\n",
              "       [ 37,   3,  94,   9,  21,  90,   9, 663,   3,  13],\n",
              "       [ 35,   1,   0,   0,   7,   4, 252,   0, 375,  40],\n",
              "       [136,   6,  35,   1, 125,  26,  26,  17,  68, 722]])"
            ]
          },
          "metadata": {},
          "execution_count": 92
        }
      ]
    },
    {
      "cell_type": "code",
      "metadata": {
        "id": "UX6g8EJ-nNlq"
      },
      "source": [
        "# accuracy function to measure accuracy of the model\n",
        "def accuracy(confusion_matrix):\n",
        "   diagonal_sum = confusion_matrix.trace()\n",
        "   sum_of_all_elements = confusion_matrix.sum()\n",
        "   return diagonal_sum / sum_of_all_elements"
      ],
      "execution_count": null,
      "outputs": []
    },
    {
      "cell_type": "code",
      "metadata": {
        "colab": {
          "base_uri": "https://localhost:8080/"
        },
        "id": "1k2XCImznFOY",
        "outputId": "057f2e33-7c83-4e51-e3a1-9ae3a2848600"
      },
      "source": [
        "print(\"Accuracy of MLPClassifier : \", accuracy(cm))"
      ],
      "execution_count": null,
      "outputs": [
        {
          "output_type": "stream",
          "name": "stdout",
          "text": [
            "Accuracy of MLPClassifier :  0.697800977343403\n"
          ]
        }
      ]
    },
    {
      "cell_type": "code",
      "metadata": {
        "id": "2J3sMmUDtqb5"
      },
      "source": [
        "# another model with a different set of hyperparameters\n",
        "mlp_model_2 = MLPClassifier(\n",
        "    hidden_layer_sizes=(150,100,10),\n",
        "    activation='relu',\n",
        "    solver='adam',\n",
        "    alpha=0.005,\n",
        "    learning_rate='adaptive',\n",
        "    learning_rate_init= 0.001,\n",
        "    max_iter=2000,\n",
        "    random_state=25,\n",
        "    verbose=True\n",
        ")"
      ],
      "execution_count": null,
      "outputs": []
    },
    {
      "cell_type": "code",
      "metadata": {
        "colab": {
          "base_uri": "https://localhost:8080/"
        },
        "id": "K3y7xyvPtzVg",
        "outputId": "95037fe7-5b24-43d2-d98c-23562a18a955"
      },
      "source": [
        "mlp_model_2.fit(X_scaled, y)"
      ],
      "execution_count": null,
      "outputs": [
        {
          "output_type": "stream",
          "name": "stdout",
          "text": [
            "Iteration 1, loss = 1.71674989\n",
            "Iteration 2, loss = 1.28680470\n",
            "Iteration 3, loss = 1.22574053\n",
            "Iteration 4, loss = 1.19820528\n",
            "Iteration 5, loss = 1.17985817\n",
            "Iteration 6, loss = 1.16305647\n",
            "Iteration 7, loss = 1.15191670\n",
            "Iteration 8, loss = 1.14056702\n",
            "Iteration 9, loss = 1.13117949\n",
            "Iteration 10, loss = 1.12151856\n",
            "Iteration 11, loss = 1.11350909\n",
            "Iteration 12, loss = 1.10583133\n",
            "Iteration 13, loss = 1.09895812\n",
            "Iteration 14, loss = 1.09075659\n",
            "Iteration 15, loss = 1.08316141\n",
            "Iteration 16, loss = 1.07973992\n",
            "Iteration 17, loss = 1.07378716\n",
            "Iteration 18, loss = 1.06870620\n",
            "Iteration 19, loss = 1.06201923\n",
            "Iteration 20, loss = 1.06034090\n",
            "Iteration 21, loss = 1.05468682\n",
            "Iteration 22, loss = 1.05096404\n",
            "Iteration 23, loss = 1.04783169\n",
            "Iteration 24, loss = 1.04341682\n",
            "Iteration 25, loss = 1.03985813\n",
            "Iteration 26, loss = 1.03731086\n",
            "Iteration 27, loss = 1.03460464\n",
            "Iteration 28, loss = 1.03007901\n",
            "Iteration 29, loss = 1.02959824\n",
            "Iteration 30, loss = 1.02399978\n",
            "Iteration 31, loss = 1.02414593\n",
            "Iteration 32, loss = 1.01916213\n",
            "Iteration 33, loss = 1.01618905\n",
            "Iteration 34, loss = 1.01546229\n",
            "Iteration 35, loss = 1.01346701\n",
            "Iteration 36, loss = 1.01040604\n",
            "Iteration 37, loss = 1.00706920\n",
            "Iteration 38, loss = 1.00732809\n",
            "Iteration 39, loss = 1.00498556\n",
            "Iteration 40, loss = 1.00215696\n",
            "Iteration 41, loss = 1.00113432\n",
            "Iteration 42, loss = 0.99848820\n",
            "Iteration 43, loss = 0.99695860\n",
            "Iteration 44, loss = 0.99340988\n",
            "Iteration 45, loss = 0.99175425\n",
            "Iteration 46, loss = 0.99021971\n",
            "Iteration 47, loss = 0.99003205\n",
            "Iteration 48, loss = 0.98724116\n",
            "Iteration 49, loss = 0.98604308\n",
            "Iteration 50, loss = 0.98477298\n",
            "Iteration 51, loss = 0.98384905\n",
            "Iteration 52, loss = 0.98006240\n",
            "Iteration 53, loss = 0.97788467\n",
            "Iteration 54, loss = 0.97827691\n",
            "Iteration 55, loss = 0.97685898\n",
            "Iteration 56, loss = 0.97408256\n",
            "Iteration 57, loss = 0.97260193\n",
            "Iteration 58, loss = 0.97105447\n",
            "Iteration 59, loss = 0.96945995\n",
            "Iteration 60, loss = 0.96735376\n",
            "Iteration 61, loss = 0.96952232\n",
            "Iteration 62, loss = 0.96875412\n",
            "Iteration 63, loss = 0.96494472\n",
            "Iteration 64, loss = 0.96507979\n",
            "Iteration 65, loss = 0.96208726\n",
            "Iteration 66, loss = 0.95956184\n",
            "Iteration 67, loss = 0.95816893\n",
            "Iteration 68, loss = 0.95941785\n",
            "Iteration 69, loss = 0.95658695\n",
            "Iteration 70, loss = 0.95541682\n",
            "Iteration 71, loss = 0.95488958\n",
            "Iteration 72, loss = 0.95107168\n",
            "Iteration 73, loss = 0.95191478\n",
            "Iteration 74, loss = 0.95001998\n",
            "Iteration 75, loss = 0.95225665\n",
            "Iteration 76, loss = 0.94946399\n",
            "Iteration 77, loss = 0.94732603\n",
            "Iteration 78, loss = 0.94701474\n",
            "Iteration 79, loss = 0.94391311\n",
            "Iteration 80, loss = 0.94527383\n",
            "Iteration 81, loss = 0.94248145\n",
            "Iteration 82, loss = 0.94241295\n",
            "Iteration 83, loss = 0.94060323\n",
            "Iteration 84, loss = 0.94051225\n",
            "Iteration 85, loss = 0.93842567\n",
            "Iteration 86, loss = 0.93736572\n",
            "Iteration 87, loss = 0.93647506\n",
            "Iteration 88, loss = 0.93514043\n",
            "Iteration 89, loss = 0.93384385\n",
            "Iteration 90, loss = 0.93186836\n",
            "Iteration 91, loss = 0.93361408\n",
            "Iteration 92, loss = 0.93482906\n",
            "Iteration 93, loss = 0.92981637\n",
            "Iteration 94, loss = 0.92839161\n",
            "Iteration 95, loss = 0.92780518\n",
            "Iteration 96, loss = 0.92701632\n",
            "Iteration 97, loss = 0.92537677\n",
            "Iteration 98, loss = 0.92603798\n",
            "Iteration 99, loss = 0.92490254\n",
            "Iteration 100, loss = 0.92446496\n",
            "Iteration 101, loss = 0.92189739\n",
            "Iteration 102, loss = 0.92146846\n",
            "Iteration 103, loss = 0.92103011\n",
            "Iteration 104, loss = 0.91982303\n",
            "Iteration 105, loss = 0.91791242\n",
            "Iteration 106, loss = 0.92041368\n",
            "Iteration 107, loss = 0.91752725\n",
            "Iteration 108, loss = 0.91602569\n",
            "Iteration 109, loss = 0.91486961\n",
            "Iteration 110, loss = 0.91534570\n",
            "Iteration 111, loss = 0.91244551\n",
            "Iteration 112, loss = 0.91150009\n",
            "Iteration 113, loss = 0.91272381\n",
            "Iteration 114, loss = 0.90991035\n",
            "Iteration 115, loss = 0.90914742\n",
            "Iteration 116, loss = 0.91017278\n",
            "Iteration 117, loss = 0.90588927\n",
            "Iteration 118, loss = 0.90475396\n",
            "Iteration 119, loss = 0.90662505\n",
            "Iteration 120, loss = 0.90298956\n",
            "Iteration 121, loss = 0.90283898\n",
            "Iteration 122, loss = 0.90256883\n",
            "Iteration 123, loss = 0.90254981\n",
            "Iteration 124, loss = 0.90399519\n",
            "Iteration 125, loss = 0.90014495\n",
            "Iteration 126, loss = 0.90002726\n",
            "Iteration 127, loss = 0.89883819\n",
            "Iteration 128, loss = 0.89797030\n",
            "Iteration 129, loss = 0.89879920\n",
            "Iteration 130, loss = 0.89566246\n",
            "Iteration 131, loss = 0.89626580\n",
            "Iteration 132, loss = 0.89323161\n",
            "Iteration 133, loss = 0.89428270\n",
            "Iteration 134, loss = 0.89300526\n",
            "Iteration 135, loss = 0.89418534\n",
            "Iteration 136, loss = 0.89190801\n",
            "Iteration 137, loss = 0.88952325\n",
            "Iteration 138, loss = 0.88986733\n",
            "Iteration 139, loss = 0.88737016\n",
            "Iteration 140, loss = 0.89024652\n",
            "Iteration 141, loss = 0.89030817\n",
            "Iteration 142, loss = 0.88672613\n",
            "Iteration 143, loss = 0.88540518\n",
            "Iteration 144, loss = 0.88433982\n",
            "Iteration 145, loss = 0.88462924\n",
            "Iteration 146, loss = 0.88340275\n",
            "Iteration 147, loss = 0.88713280\n",
            "Iteration 148, loss = 0.88232525\n",
            "Iteration 149, loss = 0.88130726\n",
            "Iteration 150, loss = 0.88069831\n",
            "Iteration 151, loss = 0.87984167\n",
            "Iteration 152, loss = 0.88004814\n",
            "Iteration 153, loss = 0.87959028\n",
            "Iteration 154, loss = 0.87636072\n",
            "Iteration 155, loss = 0.87673350\n",
            "Iteration 156, loss = 0.87736537\n",
            "Iteration 157, loss = 0.87780087\n",
            "Iteration 158, loss = 0.87534300\n",
            "Iteration 159, loss = 0.87561652\n",
            "Iteration 160, loss = 0.87535070\n",
            "Iteration 161, loss = 0.87317558\n",
            "Iteration 162, loss = 0.87398729\n",
            "Iteration 163, loss = 0.87094729\n",
            "Iteration 164, loss = 0.87158941\n",
            "Iteration 165, loss = 0.87073539\n",
            "Iteration 166, loss = 0.87051362\n",
            "Iteration 167, loss = 0.87167781\n",
            "Iteration 168, loss = 0.86822799\n",
            "Iteration 169, loss = 0.87031428\n",
            "Iteration 170, loss = 0.86662751\n",
            "Iteration 171, loss = 0.86534806\n",
            "Iteration 172, loss = 0.86567802\n",
            "Iteration 173, loss = 0.86699751\n",
            "Iteration 174, loss = 0.86558360\n",
            "Iteration 175, loss = 0.86667911\n",
            "Iteration 176, loss = 0.86452936\n",
            "Iteration 177, loss = 0.86265783\n",
            "Iteration 178, loss = 0.86459500\n",
            "Iteration 179, loss = 0.86271162\n",
            "Iteration 180, loss = 0.86019506\n",
            "Iteration 181, loss = 0.85967470\n",
            "Iteration 182, loss = 0.85873218\n",
            "Iteration 183, loss = 0.86143182\n",
            "Iteration 184, loss = 0.86281387\n",
            "Iteration 185, loss = 0.85872196\n",
            "Iteration 186, loss = 0.85834661\n",
            "Iteration 187, loss = 0.85805724\n",
            "Iteration 188, loss = 0.85807527\n",
            "Iteration 189, loss = 0.85618144\n",
            "Iteration 190, loss = 0.85565773\n",
            "Iteration 191, loss = 0.85537558\n",
            "Iteration 192, loss = 0.85384930\n",
            "Iteration 193, loss = 0.85295006\n",
            "Iteration 194, loss = 0.85534728\n",
            "Iteration 195, loss = 0.85078866\n",
            "Iteration 196, loss = 0.85071170\n",
            "Iteration 197, loss = 0.85047766\n",
            "Iteration 198, loss = 0.85247549\n",
            "Iteration 199, loss = 0.84984103\n",
            "Iteration 200, loss = 0.84978870\n",
            "Iteration 201, loss = 0.84762903\n",
            "Iteration 202, loss = 0.84743471\n",
            "Iteration 203, loss = 0.85271101\n",
            "Iteration 204, loss = 0.85102403\n",
            "Iteration 205, loss = 0.84673618\n",
            "Iteration 206, loss = 0.84804087\n",
            "Iteration 207, loss = 0.84664149\n",
            "Iteration 208, loss = 0.84352204\n",
            "Iteration 209, loss = 0.84489597\n",
            "Iteration 210, loss = 0.84728632\n",
            "Iteration 211, loss = 0.84627431\n",
            "Iteration 212, loss = 0.84358212\n",
            "Iteration 213, loss = 0.84296142\n",
            "Iteration 214, loss = 0.84159382\n",
            "Iteration 215, loss = 0.84315689\n",
            "Iteration 216, loss = 0.83998890\n",
            "Iteration 217, loss = 0.84211034\n",
            "Iteration 218, loss = 0.84115304\n",
            "Iteration 219, loss = 0.83963766\n",
            "Iteration 220, loss = 0.84359952\n",
            "Iteration 221, loss = 0.83914901\n",
            "Iteration 222, loss = 0.83940385\n",
            "Iteration 223, loss = 0.83829140\n",
            "Iteration 224, loss = 0.83594824\n",
            "Iteration 225, loss = 0.83562016\n",
            "Iteration 226, loss = 0.83777338\n",
            "Iteration 227, loss = 0.83874726\n",
            "Iteration 228, loss = 0.83884652\n",
            "Iteration 229, loss = 0.83737340\n",
            "Iteration 230, loss = 0.83492061\n",
            "Iteration 231, loss = 0.83712153\n",
            "Iteration 232, loss = 0.83505371\n",
            "Iteration 233, loss = 0.83145608\n",
            "Iteration 234, loss = 0.83212320\n",
            "Iteration 235, loss = 0.83219372\n",
            "Iteration 236, loss = 0.83135763\n",
            "Iteration 237, loss = 0.83455057\n",
            "Iteration 238, loss = 0.83313074\n",
            "Iteration 239, loss = 0.83428142\n",
            "Iteration 240, loss = 0.83066698\n",
            "Iteration 241, loss = 0.83490441\n",
            "Iteration 242, loss = 0.82924741\n",
            "Iteration 243, loss = 0.83141238\n",
            "Iteration 244, loss = 0.82790947\n",
            "Iteration 245, loss = 0.82728582\n",
            "Iteration 246, loss = 0.82963559\n",
            "Iteration 247, loss = 0.82938445\n",
            "Iteration 248, loss = 0.82705537\n",
            "Iteration 249, loss = 0.82676335\n",
            "Iteration 250, loss = 0.82932934\n",
            "Iteration 251, loss = 0.82434673\n",
            "Iteration 252, loss = 0.82353830\n",
            "Iteration 253, loss = 0.82644198\n",
            "Iteration 254, loss = 0.82304202\n",
            "Iteration 255, loss = 0.82789677\n",
            "Iteration 256, loss = 0.82407886\n",
            "Iteration 257, loss = 0.82378011\n",
            "Iteration 258, loss = 0.82302336\n",
            "Iteration 259, loss = 0.82190271\n",
            "Iteration 260, loss = 0.82319561\n",
            "Iteration 261, loss = 0.82169822\n",
            "Iteration 262, loss = 0.82206023\n",
            "Iteration 263, loss = 0.82112516\n",
            "Iteration 264, loss = 0.81928320\n",
            "Iteration 265, loss = 0.81945926\n",
            "Iteration 266, loss = 0.81897706\n",
            "Iteration 267, loss = 0.82078572\n",
            "Iteration 268, loss = 0.81909543\n",
            "Iteration 269, loss = 0.81876517\n",
            "Iteration 270, loss = 0.81822698\n",
            "Iteration 271, loss = 0.81855496\n",
            "Iteration 272, loss = 0.81880005\n",
            "Iteration 273, loss = 0.82015672\n",
            "Iteration 274, loss = 0.81798263\n",
            "Iteration 275, loss = 0.81416508\n",
            "Iteration 276, loss = 0.81554033\n",
            "Iteration 277, loss = 0.81407155\n",
            "Iteration 278, loss = 0.81491308\n",
            "Iteration 279, loss = 0.81693728\n",
            "Iteration 280, loss = 0.81334692\n",
            "Iteration 281, loss = 0.81408816\n",
            "Iteration 282, loss = 0.81239363\n",
            "Iteration 283, loss = 0.81450500\n",
            "Iteration 284, loss = 0.81383936\n",
            "Iteration 285, loss = 0.81277508\n",
            "Iteration 286, loss = 0.81179298\n",
            "Iteration 287, loss = 0.81166755\n",
            "Iteration 288, loss = 0.81132554\n",
            "Iteration 289, loss = 0.80952956\n",
            "Iteration 290, loss = 0.81334140\n",
            "Iteration 291, loss = 0.81168312\n",
            "Iteration 292, loss = 0.81006268\n",
            "Iteration 293, loss = 0.80722384\n",
            "Iteration 294, loss = 0.80874499\n",
            "Iteration 295, loss = 0.81157092\n",
            "Iteration 296, loss = 0.81030587\n",
            "Iteration 297, loss = 0.80887835\n",
            "Iteration 298, loss = 0.80886195\n",
            "Iteration 299, loss = 0.80656197\n",
            "Iteration 300, loss = 0.80831317\n",
            "Iteration 301, loss = 0.80741495\n",
            "Iteration 302, loss = 0.81235196\n",
            "Iteration 303, loss = 0.80757552\n",
            "Iteration 304, loss = 0.80491441\n",
            "Iteration 305, loss = 0.80764290\n",
            "Iteration 306, loss = 0.80729652\n",
            "Iteration 307, loss = 0.80859349\n",
            "Iteration 308, loss = 0.80416381\n",
            "Iteration 309, loss = 0.80367396\n",
            "Iteration 310, loss = 0.80827513\n",
            "Iteration 311, loss = 0.80193855\n",
            "Iteration 312, loss = 0.80384591\n",
            "Iteration 313, loss = 0.80362165\n",
            "Iteration 314, loss = 0.80380000\n",
            "Iteration 315, loss = 0.80492438\n",
            "Iteration 316, loss = 0.80506663\n",
            "Iteration 317, loss = 0.80331536\n",
            "Iteration 318, loss = 0.80594549\n",
            "Iteration 319, loss = 0.79847897\n",
            "Iteration 320, loss = 0.80257207\n",
            "Iteration 321, loss = 0.80145737\n",
            "Iteration 322, loss = 0.79797017\n",
            "Iteration 323, loss = 0.80298451\n",
            "Iteration 324, loss = 0.80223207\n",
            "Iteration 325, loss = 0.80193634\n",
            "Iteration 326, loss = 0.80124005\n",
            "Iteration 327, loss = 0.79876371\n",
            "Iteration 328, loss = 0.79832248\n",
            "Iteration 329, loss = 0.79940118\n",
            "Iteration 330, loss = 0.79884194\n",
            "Iteration 331, loss = 0.79605383\n",
            "Iteration 332, loss = 0.79757812\n",
            "Iteration 333, loss = 0.80047816\n",
            "Iteration 334, loss = 0.79815436\n",
            "Iteration 335, loss = 0.79837447\n",
            "Iteration 336, loss = 0.79726772\n",
            "Iteration 337, loss = 0.79738965\n",
            "Iteration 338, loss = 0.79815837\n",
            "Iteration 339, loss = 0.79547219\n",
            "Iteration 340, loss = 0.79521362\n",
            "Iteration 341, loss = 0.79351381\n",
            "Iteration 342, loss = 0.79221427\n",
            "Iteration 343, loss = 0.79655646\n",
            "Iteration 344, loss = 0.79561102\n",
            "Iteration 345, loss = 0.79295993\n",
            "Iteration 346, loss = 0.79142609\n",
            "Iteration 347, loss = 0.79515637\n",
            "Iteration 348, loss = 0.79385544\n",
            "Iteration 349, loss = 0.79354267\n",
            "Iteration 350, loss = 0.79051277\n",
            "Iteration 351, loss = 0.79243894\n",
            "Iteration 352, loss = 0.79004231\n",
            "Iteration 353, loss = 0.79377531\n",
            "Iteration 354, loss = 0.78975250\n",
            "Iteration 355, loss = 0.79494034\n",
            "Iteration 356, loss = 0.78903003\n",
            "Iteration 357, loss = 0.79083413\n",
            "Iteration 358, loss = 0.79265532\n",
            "Iteration 359, loss = 0.79232583\n",
            "Iteration 360, loss = 0.78908561\n",
            "Iteration 361, loss = 0.79208352\n",
            "Iteration 362, loss = 0.79209335\n",
            "Iteration 363, loss = 0.78930998\n",
            "Iteration 364, loss = 0.78976448\n",
            "Iteration 365, loss = 0.78946098\n",
            "Iteration 366, loss = 0.78932828\n",
            "Iteration 367, loss = 0.78773260\n",
            "Iteration 368, loss = 0.78695061\n",
            "Iteration 369, loss = 0.78789398\n",
            "Iteration 370, loss = 0.78700579\n",
            "Iteration 371, loss = 0.78781155\n",
            "Iteration 372, loss = 0.78572416\n",
            "Iteration 373, loss = 0.78551794\n",
            "Iteration 374, loss = 0.79007447\n",
            "Iteration 375, loss = 0.79250573\n",
            "Iteration 376, loss = 0.78911689\n",
            "Iteration 377, loss = 0.78324052\n",
            "Iteration 378, loss = 0.78444198\n",
            "Iteration 379, loss = 0.78429629\n",
            "Iteration 380, loss = 0.78190380\n",
            "Iteration 381, loss = 0.78301655\n",
            "Iteration 382, loss = 0.78635601\n",
            "Iteration 383, loss = 0.78333849\n",
            "Iteration 384, loss = 0.78435361\n",
            "Iteration 385, loss = 0.78647296\n",
            "Iteration 386, loss = 0.78382779\n",
            "Iteration 387, loss = 0.78088229\n",
            "Iteration 388, loss = 0.78235665\n",
            "Iteration 389, loss = 0.78246190\n",
            "Iteration 390, loss = 0.78143235\n",
            "Iteration 391, loss = 0.78299879\n",
            "Iteration 392, loss = 0.78349131\n",
            "Iteration 393, loss = 0.78488774\n",
            "Iteration 394, loss = 0.78158099\n",
            "Iteration 395, loss = 0.78461800\n",
            "Iteration 396, loss = 0.77999192\n",
            "Iteration 397, loss = 0.77908089\n",
            "Iteration 398, loss = 0.77923477\n",
            "Iteration 399, loss = 0.78265887\n",
            "Iteration 400, loss = 0.77916678\n",
            "Iteration 401, loss = 0.78105320\n",
            "Iteration 402, loss = 0.78070850\n",
            "Iteration 403, loss = 0.77859039\n",
            "Iteration 404, loss = 0.77877820\n",
            "Iteration 405, loss = 0.78178929\n",
            "Iteration 406, loss = 0.77906803\n",
            "Iteration 407, loss = 0.77678357\n",
            "Iteration 408, loss = 0.77648452\n",
            "Iteration 409, loss = 0.77457525\n",
            "Iteration 410, loss = 0.77574376\n",
            "Iteration 411, loss = 0.77682432\n",
            "Iteration 412, loss = 0.77797086\n",
            "Iteration 413, loss = 0.77596226\n",
            "Iteration 414, loss = 0.77875494\n",
            "Iteration 415, loss = 0.77910217\n",
            "Iteration 416, loss = 0.77251280\n",
            "Iteration 417, loss = 0.77719017\n",
            "Iteration 418, loss = 0.77666476\n",
            "Iteration 419, loss = 0.78091475\n",
            "Iteration 420, loss = 0.77457287\n",
            "Iteration 421, loss = 0.77629123\n",
            "Iteration 422, loss = 0.77591421\n",
            "Iteration 423, loss = 0.77810123\n",
            "Iteration 424, loss = 0.77395129\n",
            "Iteration 425, loss = 0.77522605\n",
            "Iteration 426, loss = 0.77355892\n",
            "Iteration 427, loss = 0.77133734\n",
            "Iteration 428, loss = 0.77560323\n",
            "Iteration 429, loss = 0.77464300\n",
            "Iteration 430, loss = 0.77565014\n",
            "Iteration 431, loss = 0.77246582\n",
            "Iteration 432, loss = 0.77092759\n",
            "Iteration 433, loss = 0.77334050\n",
            "Iteration 434, loss = 0.77156600\n",
            "Iteration 435, loss = 0.77325922\n",
            "Iteration 436, loss = 0.76897426\n",
            "Iteration 437, loss = 0.77265387\n",
            "Iteration 438, loss = 0.77215676\n",
            "Iteration 439, loss = 0.77354121\n",
            "Iteration 440, loss = 0.76903952\n",
            "Iteration 441, loss = 0.77256726\n",
            "Iteration 442, loss = 0.77150587\n",
            "Iteration 443, loss = 0.77397366\n",
            "Iteration 444, loss = 0.76845740\n",
            "Iteration 445, loss = 0.77025244\n",
            "Iteration 446, loss = 0.76958155\n",
            "Iteration 447, loss = 0.77130606\n",
            "Iteration 448, loss = 0.76809968\n",
            "Iteration 449, loss = 0.77159161\n",
            "Iteration 450, loss = 0.77380759\n",
            "Iteration 451, loss = 0.76714739\n",
            "Iteration 452, loss = 0.77005777\n",
            "Iteration 453, loss = 0.77065545\n",
            "Iteration 454, loss = 0.76948624\n",
            "Iteration 455, loss = 0.76740896\n",
            "Iteration 456, loss = 0.76743294\n",
            "Iteration 457, loss = 0.77000174\n",
            "Iteration 458, loss = 0.77071105\n",
            "Iteration 459, loss = 0.76716663\n",
            "Iteration 460, loss = 0.76992524\n",
            "Iteration 461, loss = 0.76569835\n",
            "Iteration 462, loss = 0.76743667\n",
            "Iteration 463, loss = 0.76808977\n",
            "Iteration 464, loss = 0.76640045\n",
            "Iteration 465, loss = 0.76742041\n",
            "Iteration 466, loss = 0.76689502\n",
            "Iteration 467, loss = 0.76653492\n",
            "Iteration 468, loss = 0.76301394\n",
            "Iteration 469, loss = 0.76716561\n",
            "Iteration 470, loss = 0.76388825\n",
            "Iteration 471, loss = 0.76454739\n",
            "Iteration 472, loss = 0.76394324\n",
            "Iteration 473, loss = 0.76610169\n",
            "Iteration 474, loss = 0.76471210\n",
            "Iteration 475, loss = 0.76592227\n",
            "Iteration 476, loss = 0.76456044\n",
            "Iteration 477, loss = 0.76473922\n",
            "Iteration 478, loss = 0.76341608\n",
            "Iteration 479, loss = 0.76467797\n",
            "Training loss did not improve more than tol=0.000100 for 10 consecutive epochs. Stopping.\n"
          ]
        },
        {
          "output_type": "execute_result",
          "data": {
            "text/plain": [
              "MLPClassifier(activation='relu', alpha=0.005, batch_size='auto', beta_1=0.9,\n",
              "              beta_2=0.999, early_stopping=False, epsilon=1e-08,\n",
              "              hidden_layer_sizes=(150, 100, 10), learning_rate='adaptive',\n",
              "              learning_rate_init=0.001, max_fun=15000, max_iter=2000,\n",
              "              momentum=0.9, n_iter_no_change=10, nesterovs_momentum=True,\n",
              "              power_t=0.5, random_state=25, shuffle=True, solver='adam',\n",
              "              tol=0.0001, validation_fraction=0.1, verbose=True,\n",
              "              warm_start=False)"
            ]
          },
          "metadata": {},
          "execution_count": 96
        }
      ]
    },
    {
      "cell_type": "code",
      "metadata": {
        "id": "EclZraogvzBR"
      },
      "source": [
        "y_pred = mlp_model_2.predict(X_test)"
      ],
      "execution_count": null,
      "outputs": []
    },
    {
      "cell_type": "code",
      "metadata": {
        "id": "fVNPloWJv5x5"
      },
      "source": [
        "cm2 = confusion_matrix(y_pred, y_test)"
      ],
      "execution_count": null,
      "outputs": []
    },
    {
      "cell_type": "code",
      "metadata": {
        "colab": {
          "base_uri": "https://localhost:8080/"
        },
        "id": "HPUwZpbzv-El",
        "outputId": "ff0a4b64-bd52-4214-9c31-4f09fcad4fe0"
      },
      "source": [
        "print(\"Accuracy of MLPClassifier with lower alpha: \", accuracy(cm2))"
      ],
      "execution_count": null,
      "outputs": [
        {
          "output_type": "stream",
          "name": "stdout",
          "text": [
            "Accuracy of MLPClassifier with lower alpha:  0.7064637938693914\n"
          ]
        }
      ]
    },
    {
      "cell_type": "markdown",
      "metadata": {
        "id": "eWByd3Nhw1OX"
      },
      "source": [
        "From our results, we get an ~71% accuracy on classifying the labels accurately. I tried 2 different models with a minor change in the hyperparameters, both of which resulted in a majority accuracy (as per the confusion matrix results). This leads me to believe that my model / approach is fairly accurate in predicting the labels of the songs. I think that more changes can be made/assessed to see whether other excluded predictors (i.e. acousticness) would be helpful in classifying the genre of the songs, but doing so is computationally expensive (i.e. running a model for each additional of a predictor). Other classical classification techniques such as multinomial logistic regression or random forest/ensemble classifiers may also be used to create models with similar accuracy. The MLP classifier uses a neural network approach with backpropogation and continues to modifies itself, which is why I opted for this approach. Another area of research could be determining the optimal number of hidden layers for a more accurate result. Altogether, I would say that the models have moderately decent accuracy given the large amount of data present, and having two models with similar scores tells me that they are precise. "
      ]
    },
    {
      "cell_type": "markdown",
      "metadata": {
        "id": "p50FYmftzPTe"
      },
      "source": [
        "##THANK YOU!"
      ]
    }
  ]
}